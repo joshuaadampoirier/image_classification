{
 "cells": [
  {
   "cell_type": "markdown",
   "metadata": {
    "collapsed": true,
    "deletable": true,
    "editable": true
   },
   "source": [
    "# Image Classification\n",
    "In this project, you'll classify images from the [CIFAR-10 dataset](https://www.cs.toronto.edu/~kriz/cifar.html).  The dataset consists of airplanes, dogs, cats, and other objects. You'll preprocess the images, then train a convolutional neural network on all the samples. The images need to be normalized and the labels need to be one-hot encoded.  You'll get to apply what you learned and build a convolutional, max pooling, dropout, and fully connected layers.  At the end, you'll get to see your neural network's predictions on the sample images.\n",
    "## Get the Data\n",
    "Run the following cell to download the [CIFAR-10 dataset for python](https://www.cs.toronto.edu/~kriz/cifar-10-python.tar.gz)."
   ]
  },
  {
   "cell_type": "code",
   "execution_count": 1,
   "metadata": {
    "collapsed": false,
    "deletable": true,
    "editable": true
   },
   "outputs": [
    {
     "name": "stderr",
     "output_type": "stream",
     "text": [
      "CIFAR-10 Dataset: 171MB [00:40, 4.17MB/s]                              \n"
     ]
    },
    {
     "name": "stdout",
     "output_type": "stream",
     "text": [
      "All files found!\n"
     ]
    }
   ],
   "source": [
    "\"\"\"\n",
    "DON'T MODIFY ANYTHING IN THIS CELL THAT IS BELOW THIS LINE\n",
    "\"\"\"\n",
    "from urllib.request import urlretrieve\n",
    "from os.path import isfile, isdir\n",
    "from tqdm import tqdm\n",
    "import problem_unittests as tests\n",
    "import tarfile\n",
    "\n",
    "cifar10_dataset_folder_path = 'cifar-10-batches-py'\n",
    "\n",
    "# Use Floyd's cifar-10 dataset if present\n",
    "floyd_cifar10_location = '/input/cifar-10/python.tar.gz'\n",
    "if isfile(floyd_cifar10_location):\n",
    "    tar_gz_path = floyd_cifar10_location\n",
    "else:\n",
    "    tar_gz_path = 'cifar-10-python.tar.gz'\n",
    "\n",
    "class DLProgress(tqdm):\n",
    "    last_block = 0\n",
    "\n",
    "    def hook(self, block_num=1, block_size=1, total_size=None):\n",
    "        self.total = total_size\n",
    "        self.update((block_num - self.last_block) * block_size)\n",
    "        self.last_block = block_num\n",
    "\n",
    "if not isfile(tar_gz_path):\n",
    "    with DLProgress(unit='B', unit_scale=True, miniters=1, desc='CIFAR-10 Dataset') as pbar:\n",
    "        urlretrieve(\n",
    "            'https://www.cs.toronto.edu/~kriz/cifar-10-python.tar.gz',\n",
    "            tar_gz_path,\n",
    "            pbar.hook)\n",
    "\n",
    "if not isdir(cifar10_dataset_folder_path):\n",
    "    with tarfile.open(tar_gz_path) as tar:\n",
    "        tar.extractall()\n",
    "        tar.close()\n",
    "\n",
    "\n",
    "tests.test_folder_path(cifar10_dataset_folder_path)"
   ]
  },
  {
   "cell_type": "markdown",
   "metadata": {
    "deletable": true,
    "editable": true
   },
   "source": [
    "## Explore the Data\n",
    "The dataset is broken into batches to prevent your machine from running out of memory.  The CIFAR-10 dataset consists of 5 batches, named `data_batch_1`, `data_batch_2`, etc.. Each batch contains the labels and images that are one of the following:\n",
    "* airplane\n",
    "* automobile\n",
    "* bird\n",
    "* cat\n",
    "* deer\n",
    "* dog\n",
    "* frog\n",
    "* horse\n",
    "* ship\n",
    "* truck\n",
    "\n",
    "Understanding a dataset is part of making predictions on the data.  Play around with the code cell below by changing the `batch_id` and `sample_id`. The `batch_id` is the id for a batch (1-5). The `sample_id` is the id for a image and label pair in the batch.\n",
    "\n",
    "Ask yourself \"What are all possible labels?\", \"What is the range of values for the image data?\", \"Are the labels in order or random?\".  Answers to questions like these will help you preprocess the data and end up with better predictions."
   ]
  },
  {
   "cell_type": "code",
   "execution_count": 2,
   "metadata": {
    "collapsed": false,
    "deletable": true,
    "editable": true
   },
   "outputs": [
    {
     "name": "stdout",
     "output_type": "stream",
     "text": [
      "Unique image labels for batch ID 1: ['airplane', 'automobile', 'bird', 'cat', 'deer', 'dog', 'frog', 'horse', 'ship', 'truck']\n",
      "Unique image labels for batch ID 2: ['airplane', 'automobile', 'bird', 'cat', 'deer', 'dog', 'frog', 'horse', 'ship', 'truck']\n",
      "Unique image labels for batch ID 3: ['airplane', 'automobile', 'bird', 'cat', 'deer', 'dog', 'frog', 'horse', 'ship', 'truck']\n",
      "Unique image labels for batch ID 4: ['airplane', 'automobile', 'bird', 'cat', 'deer', 'dog', 'frog', 'horse', 'ship', 'truck']\n",
      "Unique image labels for batch ID 5: ['airplane', 'automobile', 'bird', 'cat', 'deer', 'dog', 'frog', 'horse', 'ship', 'truck']\n",
      "All batches have at least one of the 10 labels\n",
      "\n",
      "Distribution of labels for batch ID 1: \n",
      "{'ship': 1025, 'horse': 1001, 'airplane': 1005, 'truck': 981, 'automobile': 974, 'deer': 999, 'cat': 1016, 'bird': 1032, 'dog': 937, 'frog': 1030}\n",
      "Distribution of labels for batch ID 2: \n",
      "{'ship': 987, 'horse': 1026, 'airplane': 984, 'truck': 985, 'automobile': 1007, 'deer': 1010, 'cat': 995, 'bird': 1010, 'dog': 988, 'frog': 1008}\n",
      "Distribution of labels for batch ID 3: \n",
      "{'ship': 961, 'horse': 1015, 'airplane': 994, 'truck': 1029, 'automobile': 1042, 'deer': 990, 'cat': 997, 'bird': 965, 'dog': 1029, 'frog': 978}\n",
      "Distribution of labels for batch ID 4: \n",
      "{'ship': 1024, 'horse': 981, 'airplane': 1003, 'truck': 983, 'automobile': 963, 'deer': 1004, 'cat': 976, 'bird': 1041, 'dog': 1021, 'frog': 1004}\n",
      "Distribution of labels for batch ID 5: \n",
      "{'ship': 1003, 'horse': 977, 'airplane': 1014, 'truck': 1022, 'automobile': 1014, 'deer': 997, 'cat': 1016, 'bird': 952, 'dog': 1025, 'frog': 980}\n",
      "Each batch has approximately 1000 images per label (1000 airplanes, 1000 cats, etc.)\n",
      "\n",
      "Sum of adj_same vector for batch ID 1: 8982\n",
      "Sum of adj_same vector for batch ID 2: 8999\n",
      "Sum of adj_same vector for batch ID 3: 8992\n",
      "Sum of adj_same vector for batch ID 4: 9057\n",
      "Sum of adj_same vector for batch ID 5: 9039\n",
      "The labels are not ordered as the number of consecutive labels which are different approaches the number of observations\n",
      "\n",
      "Stats of batch 1:\n",
      "Samples: 10000\n",
      "Label Counts: {0: 1005, 1: 974, 2: 1032, 3: 1016, 4: 999, 5: 937, 6: 1030, 7: 1001, 8: 1025, 9: 981}\n",
      "First 20 Labels: [6, 9, 9, 4, 1, 1, 2, 7, 8, 3, 4, 7, 7, 2, 9, 9, 9, 3, 2, 6]\n",
      "\n",
      "Example of Image 4:\n",
      "Image - Min Value: 0 Max Value: 254\n",
      "Image - Shape: (32, 32, 3)\n",
      "Label - Label Id: 1 Name: automobile\n"
     ]
    },
    {
     "data": {
      "image/png": "[encoded data removed]",
      "text/plain": [
       "<matplotlib.figure.Figure at 0x7f4f70506048>"
      ]
     },
     "metadata": {
      "image/png": {
       "height": 250,
       "width": 253
      }
     },
     "output_type": "display_data"
    }
   ],
   "source": [
    "%matplotlib inline\n",
    "%config InlineBackend.figure_format = 'retina'\n",
    "\n",
    "import helper\n",
    "import numpy as np\n",
    "\n",
    "# Explore the data set\n",
    "# ##############################################################################\n",
    "\n",
    "# Do different batches have different labels?\n",
    "label_names = helper._load_label_names()\n",
    "for batch_id_i in range(1,6):\n",
    "    \n",
    "    # load data and initialize list of labels\n",
    "    f, l = helper.load_cfar10_batch(cifar10_dataset_folder_path, batch_id_i)\n",
    "    unique_batch_labels = []\n",
    "    \n",
    "    # add unique labels (as strings) to new list\n",
    "    for label in set(l):\n",
    "        unique_batch_labels.append(label_names[label])\n",
    "    \n",
    "    # output our findings\n",
    "    print('Unique image labels for batch ID {}: {}'.format(batch_id_i, unique_batch_labels))\n",
    "\n",
    "print('All batches have at least one of the 10 labels\\n')\n",
    "\n",
    "# Is there a difference in the number of images for each label?\n",
    "for batch_id_i in range(1,6):\n",
    "    \n",
    "    # load data and initialize label counter dictionary\n",
    "    f, l = helper.load_cfar10_batch(cifar10_dataset_folder_path, batch_id_i)\n",
    "    label_counts = {}\n",
    "    \n",
    "    # count the labels\n",
    "    for label in set(l):\n",
    "        label_counts[label_names[label]] = l.count(label)\n",
    "        \n",
    "    # output our findings!\n",
    "    print('Distribution of labels for batch ID {}: \\n{}'.format(batch_id_i, label_counts))\n",
    "    \n",
    "print('Each batch has approximately 1000 images per label (1000 airplanes, 1000 cats, etc.)\\n')\n",
    "\n",
    "# Are the labels ordered?\n",
    "for batch_id_i in range(1,6):\n",
    "    \n",
    "    # load data and initialize difference array\n",
    "    f, l = helper.load_cfar10_batch(cifar10_dataset_folder_path, batch_id_i)\n",
    "    adj_same = []\n",
    "    \n",
    "    # loop through labels and determine if consecutive labels are the same\n",
    "    for i in range(len(l)-1):\n",
    "        adj_same.append(0 if l[i] == l[i+1] else 1)\n",
    "             \n",
    "    # if labels are ordered, the sum should be the number of labels\n",
    "    # if labels are NOT ordered, the sum should be close to the number of labels\n",
    "    print('Sum of adj_same vector for batch ID {}: {}'.format(batch_id_i, sum(adj_same)))\n",
    "\n",
    "print('The labels are not ordered as the number of consecutive labels which are different approaches the number of observations')\n",
    "    \n",
    "# Sample image and batch summary statistics\n",
    "batch_id = 1\n",
    "sample_id = 4\n",
    "helper.display_stats(cifar10_dataset_folder_path, batch_id, sample_id)"
   ]
  },
  {
   "cell_type": "markdown",
   "metadata": {
    "deletable": true,
    "editable": true
   },
   "source": [
    "## Implement Preprocess Functions\n",
    "### Normalize\n",
    "In the cell below, implement the `normalize` function to take in image data, `x`, and return it as a normalized Numpy array. The values should be in the range of 0 to 1, inclusive.  The return object should be the same shape as `x`."
   ]
  },
  {
   "cell_type": "code",
   "execution_count": 3,
   "metadata": {
    "collapsed": false,
    "deletable": true,
    "editable": true
   },
   "outputs": [
    {
     "name": "stdout",
     "output_type": "stream",
     "text": [
      "Tests Passed\n"
     ]
    }
   ],
   "source": [
    "def normalize(x):\n",
    "    \"\"\"\n",
    "    Normalize a list of sample image data in the range of 0 to 1\n",
    "    : x: List of image data.  The image shape is (32, 32, 3)\n",
    "    : return: Numpy array of normalize data\n",
    "    \"\"\"\n",
    "    # TODO: Implement Function\n",
    "    # apply min-max scaling\n",
    "    return (x - np.min(x)) / (np.max(x) - np.min(x))\n",
    "\n",
    "\n",
    "\"\"\"\n",
    "DON'T MODIFY ANYTHING IN THIS CELL THAT IS BELOW THIS LINE\n",
    "\"\"\"\n",
    "tests.test_normalize(normalize)"
   ]
  },
  {
   "cell_type": "markdown",
   "metadata": {
    "deletable": true,
    "editable": true
   },
   "source": [
    "### One-hot encode\n",
    "Just like the previous code cell, you'll be implementing a function for preprocessing.  This time, you'll implement the `one_hot_encode` function. The input, `x`, are a list of labels.  Implement the function to return the list of labels as One-Hot encoded Numpy array.  The possible values for labels are 0 to 9. The one-hot encoding function should return the same encoding for each value between each call to `one_hot_encode`.  Make sure to save the map of encodings outside the function.\n",
    "\n",
    "Hint: Don't reinvent the wheel."
   ]
  },
  {
   "cell_type": "code",
   "execution_count": 4,
   "metadata": {
    "collapsed": false,
    "deletable": true,
    "editable": true
   },
   "outputs": [
    {
     "name": "stdout",
     "output_type": "stream",
     "text": [
      "Tests Passed\n"
     ]
    }
   ],
   "source": [
    "def one_hot_encode(x, n_classes=10):\n",
    "    \"\"\"\n",
    "    One hot encode a list of sample labels. Return a one-hot encoded vector for each label.\n",
    "    : x: List of sample Labels\n",
    "    : return: Numpy array of one-hot encoded labels\n",
    "    \"\"\"\n",
    "    # TODO: Implement Function\n",
    "    return np.eye(n_classes)[x]    \n",
    "\n",
    "\n",
    "\"\"\"\n",
    "DON'T MODIFY ANYTHING IN THIS CELL THAT IS BELOW THIS LINE\n",
    "\"\"\"\n",
    "tests.test_one_hot_encode(one_hot_encode)"
   ]
  },
  {
   "cell_type": "markdown",
   "metadata": {
    "deletable": true,
    "editable": true
   },
   "source": [
    "### Randomize Data\n",
    "As you saw from exploring the data above, the order of the samples are randomized.  It doesn't hurt to randomize it again, but you don't need to for this dataset."
   ]
  },
  {
   "cell_type": "markdown",
   "metadata": {
    "deletable": true,
    "editable": true
   },
   "source": [
    "## Preprocess all the data and save it\n",
    "Running the code cell below will preprocess all the CIFAR-10 data and save it to file. The code below also uses 10% of the training data for validation."
   ]
  },
  {
   "cell_type": "code",
   "execution_count": 5,
   "metadata": {
    "collapsed": false,
    "deletable": true,
    "editable": true
   },
   "outputs": [],
   "source": [
    "\"\"\"\n",
    "DON'T MODIFY ANYTHING IN THIS CELL\n",
    "\"\"\"\n",
    "# Preprocess Training, Validation, and Testing Data\n",
    "helper.preprocess_and_save_data(cifar10_dataset_folder_path, normalize, one_hot_encode)"
   ]
  },
  {
   "cell_type": "markdown",
   "metadata": {
    "deletable": true,
    "editable": true
   },
   "source": [
    "# Check Point\n",
    "This is your first checkpoint.  If you ever decide to come back to this notebook or have to restart the notebook, you can start from here.  The preprocessed data has been saved to disk."
   ]
  },
  {
   "cell_type": "code",
   "execution_count": 6,
   "metadata": {
    "collapsed": true,
    "deletable": true,
    "editable": true
   },
   "outputs": [],
   "source": [
    "\"\"\"\n",
    "DON'T MODIFY ANYTHING IN THIS CELL\n",
    "\"\"\"\n",
    "import pickle\n",
    "import problem_unittests as tests\n",
    "import helper\n",
    "\n",
    "# Load the Preprocessed Validation data\n",
    "valid_features, valid_labels = pickle.load(open('preprocess_validation.p', mode='rb'))"
   ]
  },
  {
   "cell_type": "markdown",
   "metadata": {
    "deletable": true,
    "editable": true
   },
   "source": [
    "## Build the network\n",
    "For the neural network, you'll build each layer into a function.  Most of the code you've seen has been outside of functions. To test your code more thoroughly, we require that you put each layer in a function.  This allows us to give you better feedback and test for simple mistakes using our unittests before you submit your project.\n",
    "\n",
    ">**Note:** If you're finding it hard to dedicate enough time for this course each week, we've provided a small shortcut to this part of the project. In the next couple of problems, you'll have the option to use classes from the [TensorFlow Layers](https://www.tensorflow.org/api_docs/python/tf/layers) or [TensorFlow Layers (contrib)](https://www.tensorflow.org/api_guides/python/contrib.layers) packages to build each layer, except the layers you build in the \"Convolutional and Max Pooling Layer\" section.  TF Layers is similar to Keras's and TFLearn's abstraction to layers, so it's easy to pickup.\n",
    "\n",
    ">However, if you would like to get the most out of this course, try to solve all the problems _without_ using anything from the TF Layers packages. You **can** still use classes from other packages that happen to have the same name as ones you find in TF Layers! For example, instead of using the TF Layers version of the `conv2d` class, [tf.layers.conv2d](https://www.tensorflow.org/api_docs/python/tf/layers/conv2d), you would want to use the TF Neural Network version of `conv2d`, [tf.nn.conv2d](https://www.tensorflow.org/api_docs/python/tf/nn/conv2d). \n",
    "\n",
    "Let's begin!\n",
    "\n",
    "### Input\n",
    "The neural network needs to read the image data, one-hot encoded labels, and dropout keep probability. Implement the following functions\n",
    "* Implement `neural_net_image_input`\n",
    " * Return a [TF Placeholder](https://www.tensorflow.org/api_docs/python/tf/placeholder)\n",
    " * Set the shape using `image_shape` with batch size set to `None`.\n",
    " * Name the TensorFlow placeholder \"x\" using the TensorFlow `name` parameter in the [TF Placeholder](https://www.tensorflow.org/api_docs/python/tf/placeholder).\n",
    "* Implement `neural_net_label_input`\n",
    " * Return a [TF Placeholder](https://www.tensorflow.org/api_docs/python/tf/placeholder)\n",
    " * Set the shape using `n_classes` with batch size set to `None`.\n",
    " * Name the TensorFlow placeholder \"y\" using the TensorFlow `name` parameter in the [TF Placeholder](https://www.tensorflow.org/api_docs/python/tf/placeholder).\n",
    "* Implement `neural_net_keep_prob_input`\n",
    " * Return a [TF Placeholder](https://www.tensorflow.org/api_docs/python/tf/placeholder) for dropout keep probability.\n",
    " * Name the TensorFlow placeholder \"keep_prob\" using the TensorFlow `name` parameter in the [TF Placeholder](https://www.tensorflow.org/api_docs/python/tf/placeholder).\n",
    "\n",
    "These names will be used at the end of the project to load your saved model.\n",
    "\n",
    "Note: `None` for shapes in TensorFlow allow for a dynamic size."
   ]
  },
  {
   "cell_type": "code",
   "execution_count": 7,
   "metadata": {
    "collapsed": false,
    "deletable": true,
    "editable": true
   },
   "outputs": [
    {
     "name": "stdout",
     "output_type": "stream",
     "text": [
      "Image Input Tests Passed.\n",
      "Label Input Tests Passed.\n",
      "Keep Prob Tests Passed.\n"
     ]
    }
   ],
   "source": [
    "import tensorflow as tf\n",
    "\n",
    "def neural_net_image_input(image_shape):\n",
    "    \"\"\"\n",
    "    Return a Tensor for a batch of image input\n",
    "    : image_shape: Shape of the images\n",
    "    : return: Tensor for image input.\n",
    "    \"\"\"\n",
    "    # TODO: Implement Function\n",
    "    return tf.placeholder(tf.float32, np.append(np.array(None), np.array(image_shape)), name='x')\n",
    "\n",
    "\n",
    "def neural_net_label_input(n_classes):\n",
    "    \"\"\"\n",
    "    Return a Tensor for a batch of label input\n",
    "    : n_classes: Number of classes\n",
    "    : return: Tensor for label input.\n",
    "    \"\"\"\n",
    "    # TODO: Implement Function\n",
    "    return tf.placeholder(tf.float32, [None, n_classes], name='y')\n",
    "\n",
    "\n",
    "def neural_net_keep_prob_input():\n",
    "    \"\"\"\n",
    "    Return a Tensor for keep probability\n",
    "    : return: Tensor for keep probability.\n",
    "    \"\"\"\n",
    "    # TODO: Implement Function\n",
    "    return tf.placeholder(tf.float32, name='keep_prob')\n",
    "\n",
    "\n",
    "\"\"\"\n",
    "DON'T MODIFY ANYTHING IN THIS CELL THAT IS BELOW THIS LINE\n",
    "\"\"\"\n",
    "tf.reset_default_graph()\n",
    "tests.test_nn_image_inputs(neural_net_image_input)\n",
    "tests.test_nn_label_inputs(neural_net_label_input)\n",
    "tests.test_nn_keep_prob_inputs(neural_net_keep_prob_input)"
   ]
  },
  {
   "cell_type": "markdown",
   "metadata": {
    "deletable": true,
    "editable": true
   },
   "source": [
    "### Convolution and Max Pooling Layer\n",
    "Convolution layers have a lot of success with images. For this code cell, you should implement the function `conv2d_maxpool` to apply convolution then max pooling:\n",
    "* Create the weight and bias using `conv_ksize`, `conv_num_outputs` and the shape of `x_tensor`.\n",
    "* Apply a convolution to `x_tensor` using weight and `conv_strides`.\n",
    " * We recommend you use same padding, but you're welcome to use any padding.\n",
    "* Add bias\n",
    "* Add a nonlinear activation to the convolution.\n",
    "* Apply Max Pooling using `pool_ksize` and `pool_strides`.\n",
    " * We recommend you use same padding, but you're welcome to use any padding.\n",
    "\n",
    "**Note:** You **can't** use [TensorFlow Layers](https://www.tensorflow.org/api_docs/python/tf/layers) or [TensorFlow Layers (contrib)](https://www.tensorflow.org/api_guides/python/contrib.layers) for **this** layer, but you can still use TensorFlow's [Neural Network](https://www.tensorflow.org/api_docs/python/tf/nn) package. You may still use the shortcut option for all the **other** layers."
   ]
  },
  {
   "cell_type": "code",
   "execution_count": 8,
   "metadata": {
    "collapsed": false,
    "deletable": true,
    "editable": true
   },
   "outputs": [
    {
     "name": "stdout",
     "output_type": "stream",
     "text": [
      "Tests Passed\n"
     ]
    }
   ],
   "source": [
    "def conv2d_maxpool(x_tensor, conv_num_outputs, conv_ksize, conv_strides, pool_ksize, pool_strides):\n",
    "    \"\"\"\n",
    "    Apply convolution then max pooling to x_tensor\n",
    "    :param x_tensor: TensorFlow Tensor\n",
    "    :param conv_num_outputs: Number of outputs for the convolutional layer\n",
    "    :param conv_ksize: kernal size 2-D Tuple for the convolutional layer\n",
    "    :param conv_strides: Stride 2-D Tuple for convolution\n",
    "    :param pool_ksize: kernal size 2-D Tuple for pool\n",
    "    :param pool_strides: Stride 2-D Tuple for pool\n",
    "    : return: A tensor that represents convolution and max pooling of x_tensor\n",
    "    \"\"\"\n",
    "    # TODO: Implement Function\n",
    "   \n",
    "    # create the weight and bias\n",
    "    sd = 1 / ((x_tensor.shape[1].value * x_tensor.shape[2].value * x_tensor.shape[3].value)**0.5)\n",
    "    W_shape = [conv_ksize[0], conv_ksize[1], x_tensor.shape[3].value, conv_num_outputs]\n",
    "    W = tf.Variable(tf.truncated_normal(W_shape, mean=0, stddev=sd))\n",
    "    b = tf.Variable(tf.zeros(conv_num_outputs))\n",
    "    \n",
    "    # apply a convolution to x_tensor, add bias, apply nonlinear activation\n",
    "    conv_strides_full = [1, conv_strides[0], conv_strides[1], 1]\n",
    "    layer = tf.nn.conv2d(x_tensor, W, strides=conv_strides_full, padding='SAME')\n",
    "    layer = tf.nn.bias_add(layer, b)\n",
    "    layer = tf.nn.relu(layer)\n",
    "    \n",
    "    # apply max pooling to the layer\n",
    "    pool_ksize_full = [1, pool_ksize[0], pool_ksize[1], 1]\n",
    "    pool_strides_full = [1, pool_strides[0], pool_strides[1], 1]\n",
    "    layer = tf.nn.max_pool(layer,\n",
    "                           ksize=pool_ksize_full,\n",
    "                           strides=pool_strides_full,\n",
    "                           padding='SAME')\n",
    "    \n",
    "    return layer\n",
    "\n",
    "\n",
    "\"\"\"\n",
    "DON'T MODIFY ANYTHING IN THIS CELL THAT IS BELOW THIS LINE\n",
    "\"\"\"\n",
    "tests.test_con_pool(conv2d_maxpool)"
   ]
  },
  {
   "cell_type": "markdown",
   "metadata": {
    "deletable": true,
    "editable": true
   },
   "source": [
    "### Flatten Layer\n",
    "Implement the `flatten` function to change the dimension of `x_tensor` from a 4-D tensor to a 2-D tensor.  The output should be the shape (*Batch Size*, *Flattened Image Size*). Shortcut option: you can use classes from the [TensorFlow Layers](https://www.tensorflow.org/api_docs/python/tf/layers) or [TensorFlow Layers (contrib)](https://www.tensorflow.org/api_guides/python/contrib.layers) packages for this layer. For more of a challenge, only use other TensorFlow packages."
   ]
  },
  {
   "cell_type": "code",
   "execution_count": 9,
   "metadata": {
    "collapsed": false,
    "deletable": true,
    "editable": true
   },
   "outputs": [
    {
     "name": "stdout",
     "output_type": "stream",
     "text": [
      "Tests Passed\n"
     ]
    }
   ],
   "source": [
    "def flatten(x_tensor):\n",
    "    \"\"\"\n",
    "    Flatten x_tensor to (Batch Size, Flattened Image Size)\n",
    "    : x_tensor: A tensor of size (Batch Size, ...), where ... are the image dimensions.\n",
    "    : return: A tensor of size (Batch Size, Flattened Image Size).\n",
    "    \"\"\"\n",
    "    # TODO: Implement Function\n",
    "    \n",
    "    # get shape of input x_tensor, and number of elements n\n",
    "    s = x_tensor.shape\n",
    "    n = s[1].value * s[2].value * s[3].value\n",
    "    \n",
    "    # return flattened tensor\n",
    "    return tf.reshape(x_tensor, [-1, n])\n",
    "\n",
    "\n",
    "\"\"\"\n",
    "DON'T MODIFY ANYTHING IN THIS CELL THAT IS BELOW THIS LINE\n",
    "\"\"\"\n",
    "tests.test_flatten(flatten)"
   ]
  },
  {
   "cell_type": "markdown",
   "metadata": {
    "deletable": true,
    "editable": true
   },
   "source": [
    "### Fully-Connected Layer\n",
    "Implement the `fully_conn` function to apply a fully connected layer to `x_tensor` with the shape (*Batch Size*, *num_outputs*). Shortcut option: you can use classes from the [TensorFlow Layers](https://www.tensorflow.org/api_docs/python/tf/layers) or [TensorFlow Layers (contrib)](https://www.tensorflow.org/api_guides/python/contrib.layers) packages for this layer. For more of a challenge, only use other TensorFlow packages."
   ]
  },
  {
   "cell_type": "code",
   "execution_count": 10,
   "metadata": {
    "collapsed": false,
    "deletable": true,
    "editable": true
   },
   "outputs": [
    {
     "name": "stdout",
     "output_type": "stream",
     "text": [
      "Tests Passed\n"
     ]
    }
   ],
   "source": [
    "def fully_conn(x_tensor, num_outputs):\n",
    "    \"\"\"\n",
    "    Apply a fully connected layer to x_tensor using weight and bias\n",
    "    : x_tensor: A 2-D tensor where the first dimension is batch size.\n",
    "    : num_outputs: The number of output that the new tensor should be.\n",
    "    : return: A 2-D tensor where the second dimension is num_outputs.\n",
    "    \"\"\"\n",
    "    # TODO: Implement Function\n",
    "    \n",
    "    # calculate weights and biases\n",
    "    W = tf.Variable(tf.truncated_normal([x_tensor.shape[1].value, num_outputs], mean=0, stddev=1/(x_tensor.shape[1].value**0.5)))\n",
    "    b = tf.Variable(tf.zeros(num_outputs))\n",
    "    \n",
    "    # apply a fully-connected layer (with ReLU activation)\n",
    "    layer = tf.add(tf.matmul(x_tensor, W), b)\n",
    "    layer = tf.nn.relu(layer)\n",
    "    \n",
    "    return layer\n",
    "\n",
    "\n",
    "\"\"\"\n",
    "DON'T MODIFY ANYTHING IN THIS CELL THAT IS BELOW THIS LINE\n",
    "\"\"\"\n",
    "tests.test_fully_conn(fully_conn)"
   ]
  },
  {
   "cell_type": "markdown",
   "metadata": {
    "deletable": true,
    "editable": true
   },
   "source": [
    "### Output Layer\n",
    "Implement the `output` function to apply a fully connected layer to `x_tensor` with the shape (*Batch Size*, *num_outputs*). Shortcut option: you can use classes from the [TensorFlow Layers](https://www.tensorflow.org/api_docs/python/tf/layers) or [TensorFlow Layers (contrib)](https://www.tensorflow.org/api_guides/python/contrib.layers) packages for this layer. For more of a challenge, only use other TensorFlow packages.\n",
    "\n",
    "**Note:** Activation, softmax, or cross entropy should **not** be applied to this."
   ]
  },
  {
   "cell_type": "code",
   "execution_count": 11,
   "metadata": {
    "collapsed": false,
    "deletable": true,
    "editable": true
   },
   "outputs": [
    {
     "name": "stdout",
     "output_type": "stream",
     "text": [
      "Tests Passed\n"
     ]
    }
   ],
   "source": [
    "def output(x_tensor, num_outputs):\n",
    "    \"\"\"\n",
    "    Apply a output layer to x_tensor using weight and bias\n",
    "    : x_tensor: A 2-D tensor where the first dimension is batch size.\n",
    "    : num_outputs: The number of output that the new tensor should be.\n",
    "    : return: A 2-D tensor where the second dimension is num_outputs.\n",
    "    \"\"\"\n",
    "    # TODO: Implement Function\n",
    "    \n",
    "    # calculate weights and biases\n",
    "    W = tf.Variable(tf.truncated_normal([x_tensor.shape[1].value, num_outputs], mean=0, stddev=0.1))\n",
    "    b = tf.Variable(tf.zeros(num_outputs))\n",
    "    \n",
    "    # apply a fully-connected layer (without activation)\n",
    "    layer = tf.add(tf.matmul(x_tensor, W), b)\n",
    "    \n",
    "    return layer\n",
    "\n",
    "\n",
    "\"\"\"\n",
    "DON'T MODIFY ANYTHING IN THIS CELL THAT IS BELOW THIS LINE\n",
    "\"\"\"\n",
    "tests.test_output(output)"
   ]
  },
  {
   "cell_type": "markdown",
   "metadata": {
    "deletable": true,
    "editable": true
   },
   "source": [
    "### Create Convolutional Model\n",
    "Implement the function `conv_net` to create a convolutional neural network model. The function takes in a batch of images, `x`, and outputs logits.  Use the layers you created above to create this model:\n",
    "\n",
    "* Apply 1, 2, or 3 Convolution and Max Pool layers\n",
    "* Apply a Flatten Layer\n",
    "* Apply 1, 2, or 3 Fully Connected Layers\n",
    "* Apply an Output Layer\n",
    "* Return the output\n",
    "* Apply [TensorFlow's Dropout](https://www.tensorflow.org/api_docs/python/tf/nn/dropout) to one or more layers in the model using `keep_prob`. "
   ]
  },
  {
   "cell_type": "code",
   "execution_count": 20,
   "metadata": {
    "collapsed": false,
    "deletable": true,
    "editable": true
   },
   "outputs": [
    {
     "name": "stdout",
     "output_type": "stream",
     "text": [
      "Neural Network Built!\n"
     ]
    }
   ],
   "source": [
    "def conv_net(x, keep_prob):\n",
    "    \"\"\"\n",
    "    Create a convolutional neural network model\n",
    "    : x: Placeholder tensor that holds image data.\n",
    "    : keep_prob: Placeholder tensor that hold dropout keep probability.\n",
    "    : return: Tensor that represents logits\n",
    "    \"\"\"\n",
    "    # TODO: Apply 1, 2, or 3 Convolution and Max Pool layers\n",
    "    #    Play around with different number of outputs, kernel size and stride\n",
    "    # Function Definition from Above:\n",
    "    #    conv2d_maxpool(x_tensor, conv_num_outputs, conv_ksize, conv_strides, pool_ksize, pool_strides)\n",
    "    conv_layer1 = conv2d_maxpool(x, 32, [4,4], [1,1], [2,2], [2,2])\n",
    "    conv_layer2 = conv2d_maxpool(conv_layer1, 128, [4,4], [1,1], [2,2], [2,2])\n",
    "    conv_layer3 = conv2d_maxpool(conv_layer2, 256, [4,4], [1,1], [2,2], [2,2])\n",
    "\n",
    "    # TODO: Apply a Flatten Layer\n",
    "    # Function Definition from Above:\n",
    "    #   flatten(x_tensor)\n",
    "    flat_layer = flatten(conv_layer3)\n",
    "    \n",
    "\n",
    "    # TODO: Apply 1, 2, or 3 Fully Connected Layers\n",
    "    #    Play around with different number of outputs\n",
    "    # Function Definition from Above:\n",
    "    #   fully_conn(x_tensor, num_outputs)\n",
    "    fc1 = fully_conn(flat_layer, 256)\n",
    "    fc1 = tf.nn.dropout(fc1, keep_prob)\n",
    "    \n",
    "    # TODO: Apply an Output Layer\n",
    "    #    Set this to the number of classes\n",
    "    # Function Definition from Above:\n",
    "    #   output(x_tensor, num_outputs)\n",
    "    out = output(fc1, 10)\n",
    "    \n",
    "    \n",
    "    # TODO: return output\n",
    "    return out\n",
    "\n",
    "\n",
    "\"\"\"\n",
    "DON'T MODIFY ANYTHING IN THIS CELL THAT IS BELOW THIS LINE\n",
    "\"\"\"\n",
    "\n",
    "##############################\n",
    "## Build the Neural Network ##\n",
    "##############################\n",
    "\n",
    "# Remove previous weights, bias, inputs, etc..\n",
    "tf.reset_default_graph()\n",
    "\n",
    "# Inputs\n",
    "x = neural_net_image_input((32, 32, 3))\n",
    "y = neural_net_label_input(10)\n",
    "keep_prob = neural_net_keep_prob_input()\n",
    "\n",
    "# Model\n",
    "logits = conv_net(x, keep_prob)\n",
    "\n",
    "# Name logits Tensor, so that is can be loaded from disk after training\n",
    "logits = tf.identity(logits, name='logits')\n",
    "\n",
    "# Loss and Optimizer\n",
    "cost = tf.reduce_mean(tf.nn.softmax_cross_entropy_with_logits(logits=logits, labels=y))\n",
    "optimizer = tf.train.AdamOptimizer().minimize(cost)\n",
    "\n",
    "# Accuracy\n",
    "correct_pred = tf.equal(tf.argmax(logits, 1), tf.argmax(y, 1))\n",
    "accuracy = tf.reduce_mean(tf.cast(correct_pred, tf.float32), name='accuracy')\n",
    "\n",
    "tests.test_conv_net(conv_net)"
   ]
  },
  {
   "cell_type": "markdown",
   "metadata": {
    "deletable": true,
    "editable": true
   },
   "source": [
    "## Train the Neural Network\n",
    "### Single Optimization\n",
    "Implement the function `train_neural_network` to do a single optimization.  The optimization should use `optimizer` to optimize in `session` with a `feed_dict` of the following:\n",
    "* `x` for image input\n",
    "* `y` for labels\n",
    "* `keep_prob` for keep probability for dropout\n",
    "\n",
    "This function will be called for each batch, so `tf.global_variables_initializer()` has already been called.\n",
    "\n",
    "Note: Nothing needs to be returned. This function is only optimizing the neural network."
   ]
  },
  {
   "cell_type": "code",
   "execution_count": 13,
   "metadata": {
    "collapsed": false,
    "deletable": true,
    "editable": true
   },
   "outputs": [
    {
     "name": "stdout",
     "output_type": "stream",
     "text": [
      "Tests Passed\n"
     ]
    }
   ],
   "source": [
    "def train_neural_network(session, optimizer, keep_probability, feature_batch, label_batch):\n",
    "    \"\"\"\n",
    "    Optimize the session on a batch of images and labels\n",
    "    : session: Current TensorFlow session\n",
    "    : optimizer: TensorFlow optimizer function\n",
    "    : keep_probability: keep probability\n",
    "    : feature_batch: Batch of Numpy image data\n",
    "    : label_batch: Batch of Numpy label data\n",
    "    \"\"\"\n",
    "    # TODO: Implement Function\n",
    "    session.run(optimizer, feed_dict={x:feature_batch, y:label_batch, keep_prob:keep_probability})\n",
    "\n",
    "\n",
    "\"\"\"\n",
    "DON'T MODIFY ANYTHING IN THIS CELL THAT IS BELOW THIS LINE\n",
    "\"\"\"\n",
    "tests.test_train_nn(train_neural_network)"
   ]
  },
  {
   "cell_type": "markdown",
   "metadata": {
    "deletable": true,
    "editable": true
   },
   "source": [
    "### Show Stats\n",
    "Implement the function `print_stats` to print loss and validation accuracy.  Use the global variables `valid_features` and `valid_labels` to calculate validation accuracy.  Use a keep probability of `1.0` to calculate the loss and validation accuracy."
   ]
  },
  {
   "cell_type": "code",
   "execution_count": 14,
   "metadata": {
    "collapsed": false,
    "deletable": true,
    "editable": true
   },
   "outputs": [],
   "source": [
    "def print_stats(session, feature_batch, label_batch, cost, accuracy):\n",
    "    \"\"\"\n",
    "    Print information about loss and validation accuracy\n",
    "    : session: Current TensorFlow session\n",
    "    : feature_batch: Batch of Numpy image data\n",
    "    : label_batch: Batch of Numpy label data\n",
    "    : cost: TensorFlow cost function\n",
    "    : accuracy: TensorFlow accuracy function\n",
    "    \"\"\"\n",
    "    # TODO: Implement Function\n",
    "    \n",
    "    loss = session.run(cost, feed_dict={x:feature_batch, y:label_batch, keep_prob:1.0})\n",
    "    acc = session.run(accuracy, feed_dict={x:valid_features, y:valid_labels, keep_prob:1.0})\n",
    "    \n",
    "    print('Loss: {}, Validation Accuracy: {}'.format(loss, acc))\n",
    "    pass"
   ]
  },
  {
   "cell_type": "markdown",
   "metadata": {
    "deletable": true,
    "editable": true
   },
   "source": [
    "### Hyperparameters\n",
    "Tune the following parameters:\n",
    "* Set `epochs` to the number of iterations until the network stops learning or start overfitting\n",
    "* Set `batch_size` to the highest number that your machine has memory for.  Most people set them to common sizes of memory:\n",
    " * 64\n",
    " * 128\n",
    " * 256\n",
    " * ...\n",
    "* Set `keep_probability` to the probability of keeping a node using dropout"
   ]
  },
  {
   "cell_type": "code",
   "execution_count": 19,
   "metadata": {
    "collapsed": true,
    "deletable": true,
    "editable": true
   },
   "outputs": [],
   "source": [
    "# TODO: Tune Parameters\n",
    "epochs = 30\n",
    "batch_size = 512\n",
    "keep_probability = 0.25"
   ]
  },
  {
   "cell_type": "markdown",
   "metadata": {
    "deletable": true,
    "editable": true
   },
   "source": [
    "### Train on a Single CIFAR-10 Batch\n",
    "Instead of training the neural network on all the CIFAR-10 batches of data, let's use a single batch. This should save time while you iterate on the model to get a better accuracy.  Once the final validation accuracy is 50% or greater, run the model on all the data in the next section."
   ]
  },
  {
   "cell_type": "code",
   "execution_count": 21,
   "metadata": {
    "collapsed": false,
    "deletable": true,
    "editable": true
   },
   "outputs": [
    {
     "name": "stdout",
     "output_type": "stream",
     "text": [
      "Checking the Training on a Single Batch...\n",
      "Epoch  1, CIFAR-10 Batch 1:  Loss: 2.200329065322876, Validation Accuracy: 0.1446000039577484\n",
      "Epoch  2, CIFAR-10 Batch 1:  Loss: 2.0675909519195557, Validation Accuracy: 0.2637999653816223\n",
      "Epoch  3, CIFAR-10 Batch 1:  Loss: 2.009718418121338, Validation Accuracy: 0.2821999788284302\n",
      "Epoch  4, CIFAR-10 Batch 1:  Loss: 1.9087797403335571, Validation Accuracy: 0.32019996643066406\n",
      "Epoch  5, CIFAR-10 Batch 1:  Loss: 1.8412971496582031, Validation Accuracy: 0.36159998178482056\n",
      "Epoch  6, CIFAR-10 Batch 1:  Loss: 1.7554563283920288, Validation Accuracy: 0.3903999626636505\n",
      "Epoch  7, CIFAR-10 Batch 1:  Loss: 1.7509799003601074, Validation Accuracy: 0.3749999701976776\n",
      "Epoch  8, CIFAR-10 Batch 1:  Loss: 1.6641899347305298, Validation Accuracy: 0.39799994230270386\n",
      "Epoch  9, CIFAR-10 Batch 1:  Loss: 1.6100308895111084, Validation Accuracy: 0.433199942111969\n",
      "Epoch 10, CIFAR-10 Batch 1:  Loss: 1.628129482269287, Validation Accuracy: 0.405599981546402\n",
      "Epoch 11, CIFAR-10 Batch 1:  Loss: 1.5354647636413574, Validation Accuracy: 0.4203999638557434\n",
      "Epoch 12, CIFAR-10 Batch 1:  Loss: 1.4857218265533447, Validation Accuracy: 0.45399993658065796\n",
      "Epoch 13, CIFAR-10 Batch 1:  Loss: 1.496772050857544, Validation Accuracy: 0.4421999752521515\n",
      "Epoch 14, CIFAR-10 Batch 1:  Loss: 1.4492480754852295, Validation Accuracy: 0.44519996643066406\n",
      "Epoch 15, CIFAR-10 Batch 1:  Loss: 1.3781511783599854, Validation Accuracy: 0.46839994192123413\n",
      "Epoch 16, CIFAR-10 Batch 1:  Loss: 1.2880984544754028, Validation Accuracy: 0.4957999289035797\n",
      "Epoch 17, CIFAR-10 Batch 1:  Loss: 1.2589632272720337, Validation Accuracy: 0.5099999308586121\n",
      "Epoch 18, CIFAR-10 Batch 1:  Loss: 1.2456071376800537, Validation Accuracy: 0.5059999227523804\n",
      "Epoch 19, CIFAR-10 Batch 1:  Loss: 1.2892049551010132, Validation Accuracy: 0.4828000068664551\n",
      "Epoch 20, CIFAR-10 Batch 1:  Loss: 1.1381399631500244, Validation Accuracy: 0.5315999984741211\n",
      "Epoch 21, CIFAR-10 Batch 1:  Loss: 1.1097524166107178, Validation Accuracy: 0.5333999395370483\n",
      "Epoch 22, CIFAR-10 Batch 1:  Loss: 1.1054567098617554, Validation Accuracy: 0.5483999252319336\n",
      "Epoch 23, CIFAR-10 Batch 1:  Loss: 1.0316697359085083, Validation Accuracy: 0.5495998859405518\n",
      "Epoch 24, CIFAR-10 Batch 1:  Loss: 1.0642304420471191, Validation Accuracy: 0.5377999544143677\n",
      "Epoch 25, CIFAR-10 Batch 1:  Loss: 0.9850500822067261, Validation Accuracy: 0.5547999143600464\n",
      "Epoch 26, CIFAR-10 Batch 1:  Loss: 0.9479275345802307, Validation Accuracy: 0.5491999387741089\n",
      "Epoch 27, CIFAR-10 Batch 1:  Loss: 0.8950471878051758, Validation Accuracy: 0.5623999238014221\n",
      "Epoch 28, CIFAR-10 Batch 1:  Loss: 0.8492743372917175, Validation Accuracy: 0.5787999033927917\n",
      "Epoch 29, CIFAR-10 Batch 1:  Loss: 0.891669511795044, Validation Accuracy: 0.5493999123573303\n",
      "Epoch 30, CIFAR-10 Batch 1:  Loss: 0.8454906344413757, Validation Accuracy: 0.5657999515533447\n"
     ]
    }
   ],
   "source": [
    "\"\"\"\n",
    "DON'T MODIFY ANYTHING IN THIS CELL\n",
    "\"\"\"\n",
    "print('Checking the Training on a Single Batch...')\n",
    "with tf.Session() as sess:\n",
    "    # Initializing the variables\n",
    "    sess.run(tf.global_variables_initializer())\n",
    "    \n",
    "    # Training cycle\n",
    "    for epoch in range(epochs):\n",
    "        batch_i = 1\n",
    "        for batch_features, batch_labels in helper.load_preprocess_training_batch(batch_i, batch_size):\n",
    "            train_neural_network(sess, optimizer, keep_probability, batch_features, batch_labels)\n",
    "        print('Epoch {:>2}, CIFAR-10 Batch {}:  '.format(epoch + 1, batch_i), end='')\n",
    "        print_stats(sess, batch_features, batch_labels, cost, accuracy)"
   ]
  },
  {
   "cell_type": "markdown",
   "metadata": {
    "deletable": true,
    "editable": true
   },
   "source": [
    "### Fully Train the Model\n",
    "Now that you got a good accuracy with a single CIFAR-10 batch, try it with all five batches."
   ]
  },
  {
   "cell_type": "code",
   "execution_count": 22,
   "metadata": {
    "collapsed": false,
    "deletable": true,
    "editable": true,
    "scrolled": true
   },
   "outputs": [
    {
     "name": "stdout",
     "output_type": "stream",
     "text": [
      "Training...\n",
      "Epoch  1, CIFAR-10 Batch 1:  Loss: 2.3144891262054443, Validation Accuracy: 0.10899998992681503\n",
      "Epoch  1, CIFAR-10 Batch 2:  Loss: 2.2629690170288086, Validation Accuracy: 0.18079999089241028\n",
      "Epoch  1, CIFAR-10 Batch 3:  Loss: 2.044611930847168, Validation Accuracy: 0.2587999999523163\n",
      "Epoch  1, CIFAR-10 Batch 4:  Loss: 1.9696131944656372, Validation Accuracy: 0.241799995303154\n",
      "Epoch  1, CIFAR-10 Batch 5:  Loss: 1.900055170059204, Validation Accuracy: 0.3027999699115753\n",
      "Epoch  2, CIFAR-10 Batch 1:  Loss: 1.850816249847412, Validation Accuracy: 0.34759998321533203\n",
      "Epoch  2, CIFAR-10 Batch 2:  Loss: 1.7203729152679443, Validation Accuracy: 0.3813999891281128\n",
      "Epoch  2, CIFAR-10 Batch 3:  Loss: 1.5646578073501587, Validation Accuracy: 0.38979998230934143\n",
      "Epoch  2, CIFAR-10 Batch 4:  Loss: 1.5597643852233887, Validation Accuracy: 0.40539994835853577\n",
      "Epoch  2, CIFAR-10 Batch 5:  Loss: 1.531629204750061, Validation Accuracy: 0.43779993057250977\n",
      "Epoch  3, CIFAR-10 Batch 1:  Loss: 1.59885573387146, Validation Accuracy: 0.421999990940094\n",
      "Epoch  3, CIFAR-10 Batch 2:  Loss: 1.462035894393921, Validation Accuracy: 0.4649999737739563\n",
      "Epoch  3, CIFAR-10 Batch 3:  Loss: 1.3710416555404663, Validation Accuracy: 0.4631999433040619\n",
      "Epoch  3, CIFAR-10 Batch 4:  Loss: 1.3169687986373901, Validation Accuracy: 0.48259997367858887\n",
      "Epoch  3, CIFAR-10 Batch 5:  Loss: 1.376176118850708, Validation Accuracy: 0.491599977016449\n",
      "Epoch  4, CIFAR-10 Batch 1:  Loss: 1.4201912879943848, Validation Accuracy: 0.5015999674797058\n",
      "Epoch  4, CIFAR-10 Batch 2:  Loss: 1.3717765808105469, Validation Accuracy: 0.5071999430656433\n",
      "Epoch  4, CIFAR-10 Batch 3:  Loss: 1.1646111011505127, Validation Accuracy: 0.5113999843597412\n",
      "Epoch  4, CIFAR-10 Batch 4:  Loss: 1.201074242591858, Validation Accuracy: 0.517799973487854\n",
      "Epoch  4, CIFAR-10 Batch 5:  Loss: 1.2822805643081665, Validation Accuracy: 0.5139999389648438\n",
      "Epoch  5, CIFAR-10 Batch 1:  Loss: 1.3306256532669067, Validation Accuracy: 0.517799973487854\n",
      "Epoch  5, CIFAR-10 Batch 2:  Loss: 1.2471203804016113, Validation Accuracy: 0.5325999855995178\n",
      "Epoch  5, CIFAR-10 Batch 3:  Loss: 1.0773476362228394, Validation Accuracy: 0.549799919128418\n",
      "Epoch  5, CIFAR-10 Batch 4:  Loss: 1.1065515279769897, Validation Accuracy: 0.5423999428749084\n",
      "Epoch  5, CIFAR-10 Batch 5:  Loss: 1.1831278800964355, Validation Accuracy: 0.5633999705314636\n",
      "Epoch  6, CIFAR-10 Batch 1:  Loss: 1.2857134342193604, Validation Accuracy: 0.5287999510765076\n",
      "Epoch  6, CIFAR-10 Batch 2:  Loss: 1.1673868894577026, Validation Accuracy: 0.5763999223709106\n",
      "Epoch  6, CIFAR-10 Batch 3:  Loss: 1.0007233619689941, Validation Accuracy: 0.5831998586654663\n",
      "Epoch  6, CIFAR-10 Batch 4:  Loss: 1.0094401836395264, Validation Accuracy: 0.5801998972892761\n",
      "Epoch  6, CIFAR-10 Batch 5:  Loss: 1.1285957098007202, Validation Accuracy: 0.5887999534606934\n",
      "Epoch  7, CIFAR-10 Batch 1:  Loss: 1.1195968389511108, Validation Accuracy: 0.5863999128341675\n",
      "Epoch  7, CIFAR-10 Batch 2:  Loss: 1.1004408597946167, Validation Accuracy: 0.5987998843193054\n",
      "Epoch  7, CIFAR-10 Batch 3:  Loss: 0.9798548221588135, Validation Accuracy: 0.6023998856544495\n",
      "Epoch  7, CIFAR-10 Batch 4:  Loss: 0.9079222083091736, Validation Accuracy: 0.6099998950958252\n",
      "Epoch  7, CIFAR-10 Batch 5:  Loss: 1.0238587856292725, Validation Accuracy: 0.6159999370574951\n",
      "Epoch  8, CIFAR-10 Batch 1:  Loss: 1.165014386177063, Validation Accuracy: 0.5625998973846436\n",
      "Epoch  8, CIFAR-10 Batch 2:  Loss: 1.0271813869476318, Validation Accuracy: 0.6099998950958252\n",
      "Epoch  8, CIFAR-10 Batch 3:  Loss: 0.9204462766647339, Validation Accuracy: 0.6037999391555786\n",
      "Epoch  8, CIFAR-10 Batch 4:  Loss: 0.847703218460083, Validation Accuracy: 0.6309998035430908\n",
      "Epoch  8, CIFAR-10 Batch 5:  Loss: 0.960940957069397, Validation Accuracy: 0.6273999214172363\n",
      "Epoch  9, CIFAR-10 Batch 1:  Loss: 0.9866083860397339, Validation Accuracy: 0.6279999613761902\n",
      "Epoch  9, CIFAR-10 Batch 2:  Loss: 0.989831805229187, Validation Accuracy: 0.6271999478340149\n",
      "Epoch  9, CIFAR-10 Batch 3:  Loss: 0.83611661195755, Validation Accuracy: 0.6401998996734619\n",
      "Epoch  9, CIFAR-10 Batch 4:  Loss: 0.7735425233840942, Validation Accuracy: 0.6553999185562134\n",
      "Epoch  9, CIFAR-10 Batch 5:  Loss: 0.8650823831558228, Validation Accuracy: 0.6559998393058777\n",
      "Epoch 10, CIFAR-10 Batch 1:  Loss: 0.9140313863754272, Validation Accuracy: 0.6515998840332031\n",
      "Epoch 10, CIFAR-10 Batch 2:  Loss: 0.900039792060852, Validation Accuracy: 0.651999831199646\n",
      "Epoch 10, CIFAR-10 Batch 3:  Loss: 0.8161075115203857, Validation Accuracy: 0.6385999321937561\n",
      "Epoch 10, CIFAR-10 Batch 4:  Loss: 0.7529638409614563, Validation Accuracy: 0.6545999050140381\n",
      "Epoch 10, CIFAR-10 Batch 5:  Loss: 0.8090335130691528, Validation Accuracy: 0.6695999503135681\n",
      "Epoch 11, CIFAR-10 Batch 1:  Loss: 0.8357385396957397, Validation Accuracy: 0.6799998879432678\n",
      "Epoch 11, CIFAR-10 Batch 2:  Loss: 0.8329360485076904, Validation Accuracy: 0.6683998703956604\n",
      "Epoch 11, CIFAR-10 Batch 3:  Loss: 0.7202134132385254, Validation Accuracy: 0.6775999069213867\n",
      "Epoch 11, CIFAR-10 Batch 4:  Loss: 0.7215926647186279, Validation Accuracy: 0.6627998948097229\n",
      "Epoch 11, CIFAR-10 Batch 5:  Loss: 0.7477579712867737, Validation Accuracy: 0.6849998831748962\n",
      "Epoch 12, CIFAR-10 Batch 1:  Loss: 0.7885435819625854, Validation Accuracy: 0.6879998445510864\n",
      "Epoch 12, CIFAR-10 Batch 2:  Loss: 0.7887051701545715, Validation Accuracy: 0.6839998960494995\n",
      "Epoch 12, CIFAR-10 Batch 3:  Loss: 0.6925218105316162, Validation Accuracy: 0.6893998384475708\n",
      "Epoch 12, CIFAR-10 Batch 4:  Loss: 0.6568394899368286, Validation Accuracy: 0.6845998764038086\n",
      "Epoch 12, CIFAR-10 Batch 5:  Loss: 0.7016961574554443, Validation Accuracy: 0.7005997896194458\n",
      "Epoch 13, CIFAR-10 Batch 1:  Loss: 0.7417829632759094, Validation Accuracy: 0.6965998411178589\n",
      "Epoch 13, CIFAR-10 Batch 2:  Loss: 0.7145991325378418, Validation Accuracy: 0.7047998309135437\n",
      "Epoch 13, CIFAR-10 Batch 3:  Loss: 0.6540728807449341, Validation Accuracy: 0.7001998424530029\n",
      "Epoch 13, CIFAR-10 Batch 4:  Loss: 0.585982084274292, Validation Accuracy: 0.7085998058319092\n",
      "Epoch 13, CIFAR-10 Batch 5:  Loss: 0.6238974928855896, Validation Accuracy: 0.7137998938560486\n",
      "Epoch 14, CIFAR-10 Batch 1:  Loss: 0.673477828502655, Validation Accuracy: 0.7079998254776001\n",
      "Epoch 14, CIFAR-10 Batch 2:  Loss: 0.6780779957771301, Validation Accuracy: 0.7047998905181885\n",
      "Epoch 14, CIFAR-10 Batch 3:  Loss: 0.6210811138153076, Validation Accuracy: 0.6951998472213745\n",
      "Epoch 14, CIFAR-10 Batch 4:  Loss: 0.5531580448150635, Validation Accuracy: 0.7133998274803162\n",
      "Epoch 14, CIFAR-10 Batch 5:  Loss: 0.5947600603103638, Validation Accuracy: 0.720599889755249\n",
      "Epoch 15, CIFAR-10 Batch 1:  Loss: 0.6592605710029602, Validation Accuracy: 0.7167998552322388\n",
      "Epoch 15, CIFAR-10 Batch 2:  Loss: 0.6171541810035706, Validation Accuracy: 0.7199999094009399\n",
      "Epoch 15, CIFAR-10 Batch 3:  Loss: 0.5897859334945679, Validation Accuracy: 0.6985998749732971\n",
      "Epoch 15, CIFAR-10 Batch 4:  Loss: 0.5358856916427612, Validation Accuracy: 0.7105998992919922\n",
      "Epoch 15, CIFAR-10 Batch 5:  Loss: 0.525688886642456, Validation Accuracy: 0.7269998788833618\n",
      "Epoch 16, CIFAR-10 Batch 1:  Loss: 0.570913553237915, Validation Accuracy: 0.7235998511314392\n",
      "Epoch 16, CIFAR-10 Batch 2:  Loss: 0.547753632068634, Validation Accuracy: 0.7307997941970825\n",
      "Epoch 16, CIFAR-10 Batch 3:  Loss: 0.47608882188796997, Validation Accuracy: 0.7275998592376709\n",
      "Epoch 16, CIFAR-10 Batch 4:  Loss: 0.44476425647735596, Validation Accuracy: 0.7323998212814331\n",
      "Epoch 16, CIFAR-10 Batch 5:  Loss: 0.4830312430858612, Validation Accuracy: 0.7359998822212219\n",
      "Epoch 17, CIFAR-10 Batch 1:  Loss: 0.5255436301231384, Validation Accuracy: 0.7279999256134033\n",
      "Epoch 17, CIFAR-10 Batch 2:  Loss: 0.5210471153259277, Validation Accuracy: 0.738199770450592\n",
      "Epoch 17, CIFAR-10 Batch 3:  Loss: 0.46396660804748535, Validation Accuracy: 0.7351998090744019\n",
      "Epoch 17, CIFAR-10 Batch 4:  Loss: 0.4252944588661194, Validation Accuracy: 0.7409998178482056\n",
      "Epoch 17, CIFAR-10 Batch 5:  Loss: 0.46564552187919617, Validation Accuracy: 0.7389998435974121\n",
      "Epoch 18, CIFAR-10 Batch 1:  Loss: 0.4977607727050781, Validation Accuracy: 0.7319998741149902\n",
      "Epoch 18, CIFAR-10 Batch 2:  Loss: 0.494177907705307, Validation Accuracy: 0.7329998016357422\n",
      "Epoch 18, CIFAR-10 Batch 3:  Loss: 0.4196664094924927, Validation Accuracy: 0.7429998517036438\n",
      "Epoch 18, CIFAR-10 Batch 4:  Loss: 0.41722792387008667, Validation Accuracy: 0.7375998497009277\n",
      "Epoch 18, CIFAR-10 Batch 5:  Loss: 0.40905600786209106, Validation Accuracy: 0.7423998117446899\n",
      "Epoch 19, CIFAR-10 Batch 1:  Loss: 0.4886833727359772, Validation Accuracy: 0.7393998503684998\n",
      "Epoch 19, CIFAR-10 Batch 2:  Loss: 0.45939844846725464, Validation Accuracy: 0.7411998510360718\n",
      "Epoch 19, CIFAR-10 Batch 3:  Loss: 0.3985345959663391, Validation Accuracy: 0.7455998659133911\n",
      "Epoch 19, CIFAR-10 Batch 4:  Loss: 0.3680564761161804, Validation Accuracy: 0.7427998781204224\n",
      "Epoch 19, CIFAR-10 Batch 5:  Loss: 0.39392074942588806, Validation Accuracy: 0.751599907875061\n",
      "Epoch 20, CIFAR-10 Batch 1:  Loss: 0.43641790747642517, Validation Accuracy: 0.7433997988700867\n",
      "Epoch 20, CIFAR-10 Batch 2:  Loss: 0.4232110381126404, Validation Accuracy: 0.7433998584747314\n",
      "Epoch 20, CIFAR-10 Batch 3:  Loss: 0.3801199197769165, Validation Accuracy: 0.7445998787879944\n",
      "Epoch 20, CIFAR-10 Batch 4:  Loss: 0.41187429428100586, Validation Accuracy: 0.7257998585700989\n",
      "Epoch 20, CIFAR-10 Batch 5:  Loss: 0.3948022723197937, Validation Accuracy: 0.7313998341560364\n",
      "Epoch 21, CIFAR-10 Batch 1:  Loss: 0.3997589349746704, Validation Accuracy: 0.7389998435974121\n",
      "Epoch 21, CIFAR-10 Batch 2:  Loss: 0.41974323987960815, Validation Accuracy: 0.7461997866630554\n",
      "Epoch 21, CIFAR-10 Batch 3:  Loss: 0.34810662269592285, Validation Accuracy: 0.7435998320579529\n",
      "Epoch 21, CIFAR-10 Batch 4:  Loss: 0.3375778794288635, Validation Accuracy: 0.7425999045372009\n",
      "Epoch 21, CIFAR-10 Batch 5:  Loss: 0.3575701117515564, Validation Accuracy: 0.7601998448371887\n",
      "Epoch 22, CIFAR-10 Batch 1:  Loss: 0.3752759099006653, Validation Accuracy: 0.7343999147415161\n",
      "Epoch 22, CIFAR-10 Batch 2:  Loss: 0.3522031903266907, Validation Accuracy: 0.7519997954368591\n",
      "Epoch 22, CIFAR-10 Batch 3:  Loss: 0.2911950349807739, Validation Accuracy: 0.7545998096466064\n",
      "Epoch 22, CIFAR-10 Batch 4:  Loss: 0.3101036548614502, Validation Accuracy: 0.7509998679161072\n",
      "Epoch 22, CIFAR-10 Batch 5:  Loss: 0.3122655153274536, Validation Accuracy: 0.7585998177528381\n",
      "Epoch 23, CIFAR-10 Batch 1:  Loss: 0.35467663407325745, Validation Accuracy: 0.7355998754501343\n",
      "Epoch 23, CIFAR-10 Batch 2:  Loss: 0.3589955270290375, Validation Accuracy: 0.7537998557090759\n",
      "Epoch 23, CIFAR-10 Batch 3:  Loss: 0.2840336859226227, Validation Accuracy: 0.7497998476028442\n",
      "Epoch 23, CIFAR-10 Batch 4:  Loss: 0.30590787529945374, Validation Accuracy: 0.7471998333930969\n",
      "Epoch 23, CIFAR-10 Batch 5:  Loss: 0.33210039138793945, Validation Accuracy: 0.7457998394966125\n",
      "Epoch 24, CIFAR-10 Batch 1:  Loss: 0.31745123863220215, Validation Accuracy: 0.7451997995376587\n",
      "Epoch 24, CIFAR-10 Batch 2:  Loss: 0.30022382736206055, Validation Accuracy: 0.7521998882293701\n",
      "Epoch 24, CIFAR-10 Batch 3:  Loss: 0.2281421571969986, Validation Accuracy: 0.7531998157501221\n",
      "Epoch 24, CIFAR-10 Batch 4:  Loss: 0.3013301491737366, Validation Accuracy: 0.7479997873306274\n",
      "Epoch 24, CIFAR-10 Batch 5:  Loss: 0.28486931324005127, Validation Accuracy: 0.7501998543739319\n",
      "Epoch 25, CIFAR-10 Batch 1:  Loss: 0.30298125743865967, Validation Accuracy: 0.7525998950004578\n",
      "Epoch 25, CIFAR-10 Batch 2:  Loss: 0.2902708649635315, Validation Accuracy: 0.7519998550415039\n",
      "Epoch 25, CIFAR-10 Batch 3:  Loss: 0.23144933581352234, Validation Accuracy: 0.7457998394966125\n",
      "Epoch 25, CIFAR-10 Batch 4:  Loss: 0.27217358350753784, Validation Accuracy: 0.7475997805595398\n",
      "Epoch 25, CIFAR-10 Batch 5:  Loss: 0.2732742428779602, Validation Accuracy: 0.750799834728241\n",
      "Epoch 26, CIFAR-10 Batch 1:  Loss: 0.30152490735054016, Validation Accuracy: 0.7413998246192932\n",
      "Epoch 26, CIFAR-10 Batch 2:  Loss: 0.2582409381866455, Validation Accuracy: 0.7569998502731323\n",
      "Epoch 26, CIFAR-10 Batch 3:  Loss: 0.21834081411361694, Validation Accuracy: 0.7515997886657715\n",
      "Epoch 26, CIFAR-10 Batch 4:  Loss: 0.2463351935148239, Validation Accuracy: 0.754399836063385\n",
      "Epoch 26, CIFAR-10 Batch 5:  Loss: 0.24091847240924835, Validation Accuracy: 0.7515997886657715\n",
      "Epoch 27, CIFAR-10 Batch 1:  Loss: 0.26049917936325073, Validation Accuracy: 0.7469998598098755\n",
      "Epoch 27, CIFAR-10 Batch 2:  Loss: 0.2348434031009674, Validation Accuracy: 0.7571998238563538\n",
      "Epoch 27, CIFAR-10 Batch 3:  Loss: 0.195672869682312, Validation Accuracy: 0.7605998516082764\n",
      "Epoch 27, CIFAR-10 Batch 4:  Loss: 0.24241626262664795, Validation Accuracy: 0.7587998509407043\n",
      "Epoch 27, CIFAR-10 Batch 5:  Loss: 0.22657924890518188, Validation Accuracy: 0.7423998117446899\n",
      "Epoch 28, CIFAR-10 Batch 1:  Loss: 0.23371753096580505, Validation Accuracy: 0.7569997906684875\n",
      "Epoch 28, CIFAR-10 Batch 2:  Loss: 0.2161388397216797, Validation Accuracy: 0.7531998157501221\n",
      "Epoch 28, CIFAR-10 Batch 3:  Loss: 0.21067054569721222, Validation Accuracy: 0.7509998083114624\n",
      "Epoch 28, CIFAR-10 Batch 4:  Loss: 0.24800273776054382, Validation Accuracy: 0.748999834060669\n",
      "Epoch 28, CIFAR-10 Batch 5:  Loss: 0.20210564136505127, Validation Accuracy: 0.7545998096466064\n",
      "Epoch 29, CIFAR-10 Batch 1:  Loss: 0.23504012823104858, Validation Accuracy: 0.7531998157501221\n",
      "Epoch 29, CIFAR-10 Batch 2:  Loss: 0.17837460339069366, Validation Accuracy: 0.7645998001098633\n",
      "Epoch 29, CIFAR-10 Batch 3:  Loss: 0.17666742205619812, Validation Accuracy: 0.7535998821258545\n",
      "Epoch 29, CIFAR-10 Batch 4:  Loss: 0.22720199823379517, Validation Accuracy: 0.7527998089790344\n",
      "Epoch 29, CIFAR-10 Batch 5:  Loss: 0.1812906712293625, Validation Accuracy: 0.7539998292922974\n",
      "Epoch 30, CIFAR-10 Batch 1:  Loss: 0.21515440940856934, Validation Accuracy: 0.7563998699188232\n",
      "Epoch 30, CIFAR-10 Batch 2:  Loss: 0.20058470964431763, Validation Accuracy: 0.756199836730957\n",
      "Epoch 30, CIFAR-10 Batch 3:  Loss: 0.18481850624084473, Validation Accuracy: 0.7601998448371887\n",
      "Epoch 30, CIFAR-10 Batch 4:  Loss: 0.17547659575939178, Validation Accuracy: 0.7607998251914978\n",
      "Epoch 30, CIFAR-10 Batch 5:  Loss: 0.1721445918083191, Validation Accuracy: 0.7645998001098633\n"
     ]
    }
   ],
   "source": [
    "\"\"\"\n",
    "DON'T MODIFY ANYTHING IN THIS CELL\n",
    "\"\"\"\n",
    "save_model_path = './image_classification'\n",
    "\n",
    "print('Training...')\n",
    "with tf.Session() as sess:\n",
    "    # Initializing the variables\n",
    "    sess.run(tf.global_variables_initializer())\n",
    "    \n",
    "    # Training cycle\n",
    "    for epoch in range(epochs):\n",
    "        # Loop over all batches\n",
    "        n_batches = 5\n",
    "        for batch_i in range(1, n_batches + 1):\n",
    "            for batch_features, batch_labels in helper.load_preprocess_training_batch(batch_i, batch_size):\n",
    "                train_neural_network(sess, optimizer, keep_probability, batch_features, batch_labels)\n",
    "            print('Epoch {:>2}, CIFAR-10 Batch {}:  '.format(epoch + 1, batch_i), end='')\n",
    "            print_stats(sess, batch_features, batch_labels, cost, accuracy)\n",
    "            \n",
    "    # Save Model\n",
    "    saver = tf.train.Saver()\n",
    "    save_path = saver.save(sess, save_model_path)"
   ]
  },
  {
   "cell_type": "markdown",
   "metadata": {
    "deletable": true,
    "editable": true
   },
   "source": [
    "# Checkpoint\n",
    "The model has been saved to disk.\n",
    "## Test Model\n",
    "Test your model against the test dataset.  This will be your final accuracy. You should have an accuracy greater than 50%. If you don't, keep tweaking the model architecture and parameters."
   ]
  },
  {
   "cell_type": "code",
   "execution_count": 23,
   "metadata": {
    "collapsed": false,
    "deletable": true,
    "editable": true
   },
   "outputs": [
    {
     "name": "stdout",
     "output_type": "stream",
     "text": [
      "Testing Accuracy: 0.760127529501915\n",
      "\n"
     ]
    },
    {
     "data": {
      "image/png": "[encoded data removed]",
      "text/plain": [
       "<matplotlib.figure.Figure at 0x7f4f4e065b00>"
      ]
     },
     "metadata": {
      "image/png": {
       "height": 319,
       "width": 355
      }
     },
     "output_type": "display_data"
    }
   ],
   "source": [
    "\"\"\"\n",
    "DON'T MODIFY ANYTHING IN THIS CELL\n",
    "\"\"\"\n",
    "%matplotlib inline\n",
    "%config InlineBackend.figure_format = 'retina'\n",
    "\n",
    "import tensorflow as tf\n",
    "import pickle\n",
    "import helper\n",
    "import random\n",
    "\n",
    "# Set batch size if not already set\n",
    "try:\n",
    "    if batch_size:\n",
    "        pass\n",
    "except NameError:\n",
    "    batch_size = 64\n",
    "\n",
    "save_model_path = './image_classification'\n",
    "n_samples = 4\n",
    "top_n_predictions = 3\n",
    "\n",
    "def test_model():\n",
    "    \"\"\"\n",
    "    Test the saved model against the test dataset\n",
    "    \"\"\"\n",
    "\n",
    "    test_features, test_labels = pickle.load(open('preprocess_test.p', mode='rb'))\n",
    "    loaded_graph = tf.Graph()\n",
    "\n",
    "    with tf.Session(graph=loaded_graph) as sess:\n",
    "        # Load model\n",
    "        loader = tf.train.import_meta_graph(save_model_path + '.meta')\n",
    "        loader.restore(sess, save_model_path)\n",
    "\n",
    "        # Get Tensors from loaded model\n",
    "        loaded_x = loaded_graph.get_tensor_by_name('x:0')\n",
    "        loaded_y = loaded_graph.get_tensor_by_name('y:0')\n",
    "        loaded_keep_prob = loaded_graph.get_tensor_by_name('keep_prob:0')\n",
    "        loaded_logits = loaded_graph.get_tensor_by_name('logits:0')\n",
    "        loaded_acc = loaded_graph.get_tensor_by_name('accuracy:0')\n",
    "        \n",
    "        # Get accuracy in batches for memory limitations\n",
    "        test_batch_acc_total = 0\n",
    "        test_batch_count = 0\n",
    "        \n",
    "        for test_feature_batch, test_label_batch in helper.batch_features_labels(test_features, test_labels, batch_size):\n",
    "            test_batch_acc_total += sess.run(\n",
    "                loaded_acc,\n",
    "                feed_dict={loaded_x: test_feature_batch, loaded_y: test_label_batch, loaded_keep_prob: 1.0})\n",
    "            test_batch_count += 1\n",
    "\n",
    "        print('Testing Accuracy: {}\\n'.format(test_batch_acc_total/test_batch_count))\n",
    "\n",
    "        # Print Random Samples\n",
    "        random_test_features, random_test_labels = tuple(zip(*random.sample(list(zip(test_features, test_labels)), n_samples)))\n",
    "        random_test_predictions = sess.run(\n",
    "            tf.nn.top_k(tf.nn.softmax(loaded_logits), top_n_predictions),\n",
    "            feed_dict={loaded_x: random_test_features, loaded_y: random_test_labels, loaded_keep_prob: 1.0})\n",
    "        helper.display_image_predictions(random_test_features, random_test_labels, random_test_predictions)\n",
    "\n",
    "\n",
    "test_model()"
   ]
  },
  {
   "cell_type": "markdown",
   "metadata": {
    "deletable": true,
    "editable": true
   },
   "source": [
    "## Why 50-80% Accuracy?\n",
    "You might be wondering why you can't get an accuracy any higher. First things first, 50% isn't bad for a simple CNN.  Pure guessing would get you 10% accuracy. However, you might notice people are getting scores [well above 80%](http://rodrigob.github.io/are_we_there_yet/build/classification_datasets_results.html#43494641522d3130).  That's because we haven't taught you all there is to know about neural networks. We still need to cover a few more techniques.\n",
    "## Submitting This Project\n",
    "When submitting this project, make sure to run all the cells before saving the notebook.  Save the notebook file as \"dlnd_image_classification.ipynb\" and save it as a HTML file under \"File\" -> \"Download as\".  Include the \"helper.py\" and \"problem_unittests.py\" files in your submission."
   ]
  }
 ],
 "metadata": {
  "kernelspec": {
   "display_name": "Python 3",
   "language": "python",
   "name": "python3"
  },
  "language_info": {
   "codemirror_mode": {
    "name": "ipython",
    "version": 3
   },
   "file_extension": ".py",
   "mimetype": "text/x-python",
   "name": "python",
   "nbconvert_exporter": "python",
   "pygments_lexer": "ipython3",
   "version": "3.5.3"
  }
 },
 "nbformat": 4,
 "nbformat_minor": 0
}
