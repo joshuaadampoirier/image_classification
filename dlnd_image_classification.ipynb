{
 "cells": [
  {
   "cell_type": "markdown",
   "metadata": {
    "collapsed": true,
    "deletable": true,
    "editable": true
   },
   "source": [
    "# Image Classification\n",
    "In this project, you'll classify images from the [CIFAR-10 dataset](https://www.cs.toronto.edu/~kriz/cifar.html).  The dataset consists of airplanes, dogs, cats, and other objects. You'll preprocess the images, then train a convolutional neural network on all the samples. The images need to be normalized and the labels need to be one-hot encoded.  You'll get to apply what you learned and build a convolutional, max pooling, dropout, and fully connected layers.  At the end, you'll get to see your neural network's predictions on the sample images.\n",
    "## Get the Data\n",
    "Run the following cell to download the [CIFAR-10 dataset for python](https://www.cs.toronto.edu/~kriz/cifar-10-python.tar.gz)."
   ]
  },
  {
   "cell_type": "code",
   "execution_count": 1,
   "metadata": {
    "collapsed": false,
    "deletable": true,
    "editable": true
   },
   "outputs": [
    {
     "name": "stdout",
     "output_type": "stream",
     "text": [
      "All files found!\n"
     ]
    }
   ],
   "source": [
    "\"\"\"\n",
    "DON'T MODIFY ANYTHING IN THIS CELL THAT IS BELOW THIS LINE\n",
    "\"\"\"\n",
    "from urllib.request import urlretrieve\n",
    "from os.path import isfile, isdir\n",
    "from tqdm import tqdm\n",
    "import problem_unittests as tests\n",
    "import tarfile\n",
    "\n",
    "cifar10_dataset_folder_path = 'cifar-10-batches-py'\n",
    "\n",
    "# Use Floyd's cifar-10 dataset if present\n",
    "floyd_cifar10_location = '/input/cifar-10/python.tar.gz'\n",
    "if isfile(floyd_cifar10_location):\n",
    "    tar_gz_path = floyd_cifar10_location\n",
    "else:\n",
    "    tar_gz_path = 'cifar-10-python.tar.gz'\n",
    "\n",
    "class DLProgress(tqdm):\n",
    "    last_block = 0\n",
    "\n",
    "    def hook(self, block_num=1, block_size=1, total_size=None):\n",
    "        self.total = total_size\n",
    "        self.update((block_num - self.last_block) * block_size)\n",
    "        self.last_block = block_num\n",
    "\n",
    "if not isfile(tar_gz_path):\n",
    "    with DLProgress(unit='B', unit_scale=True, miniters=1, desc='CIFAR-10 Dataset') as pbar:\n",
    "        urlretrieve(\n",
    "            'https://www.cs.toronto.edu/~kriz/cifar-10-python.tar.gz',\n",
    "            tar_gz_path,\n",
    "            pbar.hook)\n",
    "\n",
    "if not isdir(cifar10_dataset_folder_path):\n",
    "    with tarfile.open(tar_gz_path) as tar:\n",
    "        tar.extractall()\n",
    "        tar.close()\n",
    "\n",
    "\n",
    "tests.test_folder_path(cifar10_dataset_folder_path)"
   ]
  },
  {
   "cell_type": "markdown",
   "metadata": {
    "deletable": true,
    "editable": true
   },
   "source": [
    "## Explore the Data\n",
    "The dataset is broken into batches to prevent your machine from running out of memory.  The CIFAR-10 dataset consists of 5 batches, named `data_batch_1`, `data_batch_2`, etc.. Each batch contains the labels and images that are one of the following:\n",
    "* airplane\n",
    "* automobile\n",
    "* bird\n",
    "* cat\n",
    "* deer\n",
    "* dog\n",
    "* frog\n",
    "* horse\n",
    "* ship\n",
    "* truck\n",
    "\n",
    "Understanding a dataset is part of making predictions on the data.  Play around with the code cell below by changing the `batch_id` and `sample_id`. The `batch_id` is the id for a batch (1-5). The `sample_id` is the id for a image and label pair in the batch.\n",
    "\n",
    "Ask yourself \"What are all possible labels?\", \"What is the range of values for the image data?\", \"Are the labels in order or random?\".  Answers to questions like these will help you preprocess the data and end up with better predictions."
   ]
  },
  {
   "cell_type": "code",
   "execution_count": 2,
   "metadata": {
    "collapsed": false,
    "deletable": true,
    "editable": true
   },
   "outputs": [
    {
     "name": "stdout",
     "output_type": "stream",
     "text": [
      "Unique image labels for batch ID 1: ['airplane', 'automobile', 'bird', 'cat', 'deer', 'dog', 'frog', 'horse', 'ship', 'truck']\n",
      "Unique image labels for batch ID 2: ['airplane', 'automobile', 'bird', 'cat', 'deer', 'dog', 'frog', 'horse', 'ship', 'truck']\n",
      "Unique image labels for batch ID 3: ['airplane', 'automobile', 'bird', 'cat', 'deer', 'dog', 'frog', 'horse', 'ship', 'truck']\n",
      "Unique image labels for batch ID 4: ['airplane', 'automobile', 'bird', 'cat', 'deer', 'dog', 'frog', 'horse', 'ship', 'truck']\n",
      "Unique image labels for batch ID 5: ['airplane', 'automobile', 'bird', 'cat', 'deer', 'dog', 'frog', 'horse', 'ship', 'truck']\n",
      "All batches have at least one of the 10 labels\n",
      "\n",
      "Distribution of labels for batch ID 1: \n",
      "{'deer': 999, 'bird': 1032, 'automobile': 974, 'cat': 1016, 'horse': 1001, 'airplane': 1005, 'frog': 1030, 'truck': 981, 'ship': 1025, 'dog': 937}\n",
      "Distribution of labels for batch ID 2: \n",
      "{'deer': 1010, 'bird': 1010, 'automobile': 1007, 'cat': 995, 'horse': 1026, 'airplane': 984, 'frog': 1008, 'truck': 985, 'ship': 987, 'dog': 988}\n",
      "Distribution of labels for batch ID 3: \n",
      "{'deer': 990, 'bird': 965, 'automobile': 1042, 'cat': 997, 'horse': 1015, 'airplane': 994, 'frog': 978, 'truck': 1029, 'ship': 961, 'dog': 1029}\n",
      "Distribution of labels for batch ID 4: \n",
      "{'deer': 1004, 'bird': 1041, 'automobile': 963, 'cat': 976, 'horse': 981, 'airplane': 1003, 'frog': 1004, 'truck': 983, 'ship': 1024, 'dog': 1021}\n",
      "Distribution of labels for batch ID 5: \n",
      "{'deer': 997, 'bird': 952, 'automobile': 1014, 'cat': 1016, 'horse': 977, 'airplane': 1014, 'frog': 980, 'truck': 1022, 'ship': 1003, 'dog': 1025}\n",
      "Each batch has approximately 1000 images per label (1000 airplanes, 1000 cats, etc.)\n",
      "\n",
      "Sum of adj_same vector for batch ID 1: 8982\n",
      "Sum of adj_same vector for batch ID 2: 8999\n",
      "Sum of adj_same vector for batch ID 3: 8992\n",
      "Sum of adj_same vector for batch ID 4: 9057\n",
      "Sum of adj_same vector for batch ID 5: 9039\n",
      "The labels are not ordered as the number of consecutive labels which are different approaches the number of observations\n",
      "\n",
      "Stats of batch 1:\n",
      "Samples: 10000\n",
      "Label Counts: {0: 1005, 1: 974, 2: 1032, 3: 1016, 4: 999, 5: 937, 6: 1030, 7: 1001, 8: 1025, 9: 981}\n",
      "First 20 Labels: [6, 9, 9, 4, 1, 1, 2, 7, 8, 3, 4, 7, 7, 2, 9, 9, 9, 3, 2, 6]\n",
      "\n",
      "Example of Image 4:\n",
      "Image - Min Value: 0 Max Value: 254\n",
      "Image - Shape: (32, 32, 3)\n",
      "Label - Label Id: 1 Name: automobile\n"
     ]
    },
    {
     "data": {
      "image/png": "[encoded data removed]",
      "text/plain": [
       "<matplotlib.figure.Figure at 0x7fe28c751a20>"
      ]
     },
     "metadata": {
      "image/png": {
       "height": 250,
       "width": 253
      }
     },
     "output_type": "display_data"
    }
   ],
   "source": [
    "%matplotlib inline\n",
    "%config InlineBackend.figure_format = 'retina'\n",
    "\n",
    "import helper\n",
    "import numpy as np\n",
    "\n",
    "# Explore the data set\n",
    "# ##############################################################################\n",
    "\n",
    "# Do different batches have different labels?\n",
    "label_names = helper._load_label_names()\n",
    "for batch_id_i in range(1,6):\n",
    "    \n",
    "    # load data and initialize list of labels\n",
    "    f, l = helper.load_cfar10_batch(cifar10_dataset_folder_path, batch_id_i)\n",
    "    unique_batch_labels = []\n",
    "    \n",
    "    # add unique labels (as strings) to new list\n",
    "    for label in set(l):\n",
    "        unique_batch_labels.append(label_names[label])\n",
    "    \n",
    "    # output our findings\n",
    "    print('Unique image labels for batch ID {}: {}'.format(batch_id_i, unique_batch_labels))\n",
    "\n",
    "print('All batches have at least one of the 10 labels\\n')\n",
    "\n",
    "# Is there a difference in the number of images for each label?\n",
    "for batch_id_i in range(1,6):\n",
    "    \n",
    "    # load data and initialize label counter dictionary\n",
    "    f, l = helper.load_cfar10_batch(cifar10_dataset_folder_path, batch_id_i)\n",
    "    label_counts = {}\n",
    "    \n",
    "    # count the labels\n",
    "    for label in set(l):\n",
    "        label_counts[label_names[label]] = l.count(label)\n",
    "        \n",
    "    # output our findings!\n",
    "    print('Distribution of labels for batch ID {}: \\n{}'.format(batch_id_i, label_counts))\n",
    "    \n",
    "print('Each batch has approximately 1000 images per label (1000 airplanes, 1000 cats, etc.)\\n')\n",
    "\n",
    "# Are the labels ordered?\n",
    "for batch_id_i in range(1,6):\n",
    "    \n",
    "    # load data and initialize difference array\n",
    "    f, l = helper.load_cfar10_batch(cifar10_dataset_folder_path, batch_id_i)\n",
    "    adj_same = []\n",
    "    \n",
    "    # loop through labels and determine if consecutive labels are the same\n",
    "    for i in range(len(l)-1):\n",
    "        adj_same.append(0 if l[i] == l[i+1] else 1)\n",
    "             \n",
    "    # if labels are ordered, the sum should be the number of labels\n",
    "    # if labels are NOT ordered, the sum should be close to the number of labels\n",
    "    print('Sum of adj_same vector for batch ID {}: {}'.format(batch_id_i, sum(adj_same)))\n",
    "\n",
    "print('The labels are not ordered as the number of consecutive labels which are different approaches the number of observations')\n",
    "    \n",
    "# Sample image and batch summary statistics\n",
    "batch_id = 1\n",
    "sample_id = 4\n",
    "helper.display_stats(cifar10_dataset_folder_path, batch_id, sample_id)"
   ]
  },
  {
   "cell_type": "markdown",
   "metadata": {
    "deletable": true,
    "editable": true
   },
   "source": [
    "## Implement Preprocess Functions\n",
    "### Normalize\n",
    "In the cell below, implement the `normalize` function to take in image data, `x`, and return it as a normalized Numpy array. The values should be in the range of 0 to 1, inclusive.  The return object should be the same shape as `x`."
   ]
  },
  {
   "cell_type": "code",
   "execution_count": 3,
   "metadata": {
    "collapsed": false,
    "deletable": true,
    "editable": true
   },
   "outputs": [
    {
     "name": "stdout",
     "output_type": "stream",
     "text": [
      "Tests Passed\n"
     ]
    }
   ],
   "source": [
    "def normalize(x):\n",
    "    \"\"\"\n",
    "    Normalize a list of sample image data in the range of 0 to 1\n",
    "    : x: List of image data.  The image shape is (32, 32, 3)\n",
    "    : return: Numpy array of normalize data\n",
    "    \"\"\"\n",
    "    # TODO: Implement Function\n",
    "    # apply min-max scaling\n",
    "    return (x - np.min(x)) / (np.max(x) - np.min(x))\n",
    "\n",
    "\n",
    "\"\"\"\n",
    "DON'T MODIFY ANYTHING IN THIS CELL THAT IS BELOW THIS LINE\n",
    "\"\"\"\n",
    "tests.test_normalize(normalize)"
   ]
  },
  {
   "cell_type": "markdown",
   "metadata": {
    "deletable": true,
    "editable": true
   },
   "source": [
    "### One-hot encode\n",
    "Just like the previous code cell, you'll be implementing a function for preprocessing.  This time, you'll implement the `one_hot_encode` function. The input, `x`, are a list of labels.  Implement the function to return the list of labels as One-Hot encoded Numpy array.  The possible values for labels are 0 to 9. The one-hot encoding function should return the same encoding for each value between each call to `one_hot_encode`.  Make sure to save the map of encodings outside the function.\n",
    "\n",
    "Hint: Don't reinvent the wheel."
   ]
  },
  {
   "cell_type": "code",
   "execution_count": 4,
   "metadata": {
    "collapsed": false,
    "deletable": true,
    "editable": true
   },
   "outputs": [
    {
     "name": "stdout",
     "output_type": "stream",
     "text": [
      "Tests Passed\n"
     ]
    }
   ],
   "source": [
    "def one_hot_encode(x, n_classes=10):\n",
    "    \"\"\"\n",
    "    One hot encode a list of sample labels. Return a one-hot encoded vector for each label.\n",
    "    : x: List of sample Labels\n",
    "    : return: Numpy array of one-hot encoded labels\n",
    "    \"\"\"\n",
    "    # TODO: Implement Function\n",
    "    return np.eye(n_classes)[x]    \n",
    "\n",
    "\n",
    "\"\"\"\n",
    "DON'T MODIFY ANYTHING IN THIS CELL THAT IS BELOW THIS LINE\n",
    "\"\"\"\n",
    "tests.test_one_hot_encode(one_hot_encode)"
   ]
  },
  {
   "cell_type": "markdown",
   "metadata": {
    "deletable": true,
    "editable": true
   },
   "source": [
    "### Randomize Data\n",
    "As you saw from exploring the data above, the order of the samples are randomized.  It doesn't hurt to randomize it again, but you don't need to for this dataset."
   ]
  },
  {
   "cell_type": "markdown",
   "metadata": {
    "deletable": true,
    "editable": true
   },
   "source": [
    "## Preprocess all the data and save it\n",
    "Running the code cell below will preprocess all the CIFAR-10 data and save it to file. The code below also uses 10% of the training data for validation."
   ]
  },
  {
   "cell_type": "code",
   "execution_count": 5,
   "metadata": {
    "collapsed": false,
    "deletable": true,
    "editable": true
   },
   "outputs": [],
   "source": [
    "\"\"\"\n",
    "DON'T MODIFY ANYTHING IN THIS CELL\n",
    "\"\"\"\n",
    "# Preprocess Training, Validation, and Testing Data\n",
    "helper.preprocess_and_save_data(cifar10_dataset_folder_path, normalize, one_hot_encode)"
   ]
  },
  {
   "cell_type": "markdown",
   "metadata": {
    "deletable": true,
    "editable": true
   },
   "source": [
    "# Check Point\n",
    "This is your first checkpoint.  If you ever decide to come back to this notebook or have to restart the notebook, you can start from here.  The preprocessed data has been saved to disk."
   ]
  },
  {
   "cell_type": "code",
   "execution_count": 6,
   "metadata": {
    "collapsed": true,
    "deletable": true,
    "editable": true
   },
   "outputs": [],
   "source": [
    "\"\"\"\n",
    "DON'T MODIFY ANYTHING IN THIS CELL\n",
    "\"\"\"\n",
    "import pickle\n",
    "import problem_unittests as tests\n",
    "import helper\n",
    "\n",
    "# Load the Preprocessed Validation data\n",
    "valid_features, valid_labels = pickle.load(open('preprocess_validation.p', mode='rb'))"
   ]
  },
  {
   "cell_type": "markdown",
   "metadata": {
    "deletable": true,
    "editable": true
   },
   "source": [
    "## Build the network\n",
    "For the neural network, you'll build each layer into a function.  Most of the code you've seen has been outside of functions. To test your code more thoroughly, we require that you put each layer in a function.  This allows us to give you better feedback and test for simple mistakes using our unittests before you submit your project.\n",
    "\n",
    ">**Note:** If you're finding it hard to dedicate enough time for this course each week, we've provided a small shortcut to this part of the project. In the next couple of problems, you'll have the option to use classes from the [TensorFlow Layers](https://www.tensorflow.org/api_docs/python/tf/layers) or [TensorFlow Layers (contrib)](https://www.tensorflow.org/api_guides/python/contrib.layers) packages to build each layer, except the layers you build in the \"Convolutional and Max Pooling Layer\" section.  TF Layers is similar to Keras's and TFLearn's abstraction to layers, so it's easy to pickup.\n",
    "\n",
    ">However, if you would like to get the most out of this course, try to solve all the problems _without_ using anything from the TF Layers packages. You **can** still use classes from other packages that happen to have the same name as ones you find in TF Layers! For example, instead of using the TF Layers version of the `conv2d` class, [tf.layers.conv2d](https://www.tensorflow.org/api_docs/python/tf/layers/conv2d), you would want to use the TF Neural Network version of `conv2d`, [tf.nn.conv2d](https://www.tensorflow.org/api_docs/python/tf/nn/conv2d). \n",
    "\n",
    "Let's begin!\n",
    "\n",
    "### Input\n",
    "The neural network needs to read the image data, one-hot encoded labels, and dropout keep probability. Implement the following functions\n",
    "* Implement `neural_net_image_input`\n",
    " * Return a [TF Placeholder](https://www.tensorflow.org/api_docs/python/tf/placeholder)\n",
    " * Set the shape using `image_shape` with batch size set to `None`.\n",
    " * Name the TensorFlow placeholder \"x\" using the TensorFlow `name` parameter in the [TF Placeholder](https://www.tensorflow.org/api_docs/python/tf/placeholder).\n",
    "* Implement `neural_net_label_input`\n",
    " * Return a [TF Placeholder](https://www.tensorflow.org/api_docs/python/tf/placeholder)\n",
    " * Set the shape using `n_classes` with batch size set to `None`.\n",
    " * Name the TensorFlow placeholder \"y\" using the TensorFlow `name` parameter in the [TF Placeholder](https://www.tensorflow.org/api_docs/python/tf/placeholder).\n",
    "* Implement `neural_net_keep_prob_input`\n",
    " * Return a [TF Placeholder](https://www.tensorflow.org/api_docs/python/tf/placeholder) for dropout keep probability.\n",
    " * Name the TensorFlow placeholder \"keep_prob\" using the TensorFlow `name` parameter in the [TF Placeholder](https://www.tensorflow.org/api_docs/python/tf/placeholder).\n",
    "\n",
    "These names will be used at the end of the project to load your saved model.\n",
    "\n",
    "Note: `None` for shapes in TensorFlow allow for a dynamic size."
   ]
  },
  {
   "cell_type": "code",
   "execution_count": 7,
   "metadata": {
    "collapsed": false,
    "deletable": true,
    "editable": true
   },
   "outputs": [
    {
     "name": "stdout",
     "output_type": "stream",
     "text": [
      "Image Input Tests Passed.\n",
      "Label Input Tests Passed.\n",
      "Keep Prob Tests Passed.\n"
     ]
    }
   ],
   "source": [
    "import tensorflow as tf\n",
    "\n",
    "def neural_net_image_input(image_shape):\n",
    "    \"\"\"\n",
    "    Return a Tensor for a batch of image input\n",
    "    : image_shape: Shape of the images\n",
    "    : return: Tensor for image input.\n",
    "    \"\"\"\n",
    "    # TODO: Implement Function\n",
    "    return tf.placeholder(tf.float32, np.append(np.array(None), np.array(image_shape)), name='x')\n",
    "\n",
    "\n",
    "def neural_net_label_input(n_classes):\n",
    "    \"\"\"\n",
    "    Return a Tensor for a batch of label input\n",
    "    : n_classes: Number of classes\n",
    "    : return: Tensor for label input.\n",
    "    \"\"\"\n",
    "    # TODO: Implement Function\n",
    "    return tf.placeholder(tf.float32, [None, n_classes], name='y')\n",
    "\n",
    "\n",
    "def neural_net_keep_prob_input():\n",
    "    \"\"\"\n",
    "    Return a Tensor for keep probability\n",
    "    : return: Tensor for keep probability.\n",
    "    \"\"\"\n",
    "    # TODO: Implement Function\n",
    "    return tf.placeholder(tf.float32, name='keep_prob')\n",
    "\n",
    "\n",
    "\"\"\"\n",
    "DON'T MODIFY ANYTHING IN THIS CELL THAT IS BELOW THIS LINE\n",
    "\"\"\"\n",
    "tf.reset_default_graph()\n",
    "tests.test_nn_image_inputs(neural_net_image_input)\n",
    "tests.test_nn_label_inputs(neural_net_label_input)\n",
    "tests.test_nn_keep_prob_inputs(neural_net_keep_prob_input)"
   ]
  },
  {
   "cell_type": "markdown",
   "metadata": {
    "deletable": true,
    "editable": true
   },
   "source": [
    "### Convolution and Max Pooling Layer\n",
    "Convolution layers have a lot of success with images. For this code cell, you should implement the function `conv2d_maxpool` to apply convolution then max pooling:\n",
    "* Create the weight and bias using `conv_ksize`, `conv_num_outputs` and the shape of `x_tensor`.\n",
    "* Apply a convolution to `x_tensor` using weight and `conv_strides`.\n",
    " * We recommend you use same padding, but you're welcome to use any padding.\n",
    "* Add bias\n",
    "* Add a nonlinear activation to the convolution.\n",
    "* Apply Max Pooling using `pool_ksize` and `pool_strides`.\n",
    " * We recommend you use same padding, but you're welcome to use any padding.\n",
    "\n",
    "**Note:** You **can't** use [TensorFlow Layers](https://www.tensorflow.org/api_docs/python/tf/layers) or [TensorFlow Layers (contrib)](https://www.tensorflow.org/api_guides/python/contrib.layers) for **this** layer, but you can still use TensorFlow's [Neural Network](https://www.tensorflow.org/api_docs/python/tf/nn) package. You may still use the shortcut option for all the **other** layers."
   ]
  },
  {
   "cell_type": "code",
   "execution_count": 98,
   "metadata": {
    "collapsed": false,
    "deletable": true,
    "editable": true
   },
   "outputs": [
    {
     "name": "stdout",
     "output_type": "stream",
     "text": [
      "Tests Passed\n"
     ]
    }
   ],
   "source": [
    "def conv2d_maxpool(x_tensor, conv_num_outputs, conv_ksize, conv_strides, pool_ksize, pool_strides):\n",
    "    \"\"\"\n",
    "    Apply convolution then max pooling to x_tensor\n",
    "    :param x_tensor: TensorFlow Tensor\n",
    "    :param conv_num_outputs: Number of outputs for the convolutional layer\n",
    "    :param conv_ksize: kernal size 2-D Tuple for the convolutional layer\n",
    "    :param conv_strides: Stride 2-D Tuple for convolution\n",
    "    :param pool_ksize: kernal size 2-D Tuple for pool\n",
    "    :param pool_strides: Stride 2-D Tuple for pool\n",
    "    : return: A tensor that represents convolution and max pooling of x_tensor\n",
    "    \"\"\"\n",
    "    # TODO: Implement Function\n",
    "   \n",
    "    # create the weight and bias\n",
    "    sd = 1 / ((x_tensor.shape[1].value * x_tensor.shape[2].value * x_tensor.shape[3].value)**0.5)\n",
    "    W_shape = [conv_ksize[0], conv_ksize[1], x_tensor.shape[3].value, conv_num_outputs]\n",
    "    W = tf.Variable(tf.truncated_normal(W_shape, mean=0, stddev=sd))\n",
    "    b = tf.Variable(tf.zeros(conv_num_outputs))\n",
    "    \n",
    "    # apply a convolution to x_tensor, add bias, apply nonlinear activation\n",
    "    conv_strides_full = [1, conv_strides[0], conv_strides[1], 1]\n",
    "    layer = tf.nn.conv2d(x_tensor, W, strides=conv_strides_full, padding='SAME')\n",
    "    layer = tf.nn.bias_add(layer, b)\n",
    "    layer = tf.nn.relu(layer)\n",
    "    \n",
    "    # apply max pooling to the layer\n",
    "    pool_ksize_full = [1, pool_ksize[0], pool_ksize[1], 1]\n",
    "    pool_strides_full = [1, pool_strides[0], pool_strides[1], 1]\n",
    "    layer = tf.nn.max_pool(layer,\n",
    "                           ksize=pool_ksize_full,\n",
    "                           strides=pool_strides_full,\n",
    "                           padding='SAME')\n",
    "    \n",
    "    return layer\n",
    "\n",
    "\n",
    "\"\"\"\n",
    "DON'T MODIFY ANYTHING IN THIS CELL THAT IS BELOW THIS LINE\n",
    "\"\"\"\n",
    "tests.test_con_pool(conv2d_maxpool)"
   ]
  },
  {
   "cell_type": "markdown",
   "metadata": {
    "deletable": true,
    "editable": true
   },
   "source": [
    "### Flatten Layer\n",
    "Implement the `flatten` function to change the dimension of `x_tensor` from a 4-D tensor to a 2-D tensor.  The output should be the shape (*Batch Size*, *Flattened Image Size*). Shortcut option: you can use classes from the [TensorFlow Layers](https://www.tensorflow.org/api_docs/python/tf/layers) or [TensorFlow Layers (contrib)](https://www.tensorflow.org/api_guides/python/contrib.layers) packages for this layer. For more of a challenge, only use other TensorFlow packages."
   ]
  },
  {
   "cell_type": "code",
   "execution_count": 43,
   "metadata": {
    "collapsed": false,
    "deletable": true,
    "editable": true
   },
   "outputs": [
    {
     "name": "stdout",
     "output_type": "stream",
     "text": [
      "Tests Passed\n"
     ]
    }
   ],
   "source": [
    "def flatten(x_tensor):\n",
    "    \"\"\"\n",
    "    Flatten x_tensor to (Batch Size, Flattened Image Size)\n",
    "    : x_tensor: A tensor of size (Batch Size, ...), where ... are the image dimensions.\n",
    "    : return: A tensor of size (Batch Size, Flattened Image Size).\n",
    "    \"\"\"\n",
    "    # TODO: Implement Function\n",
    "    \n",
    "    # get shape of input x_tensor, and number of elements n\n",
    "    s = x_tensor.shape\n",
    "    n = s[1].value * s[2].value * s[3].value\n",
    "    \n",
    "    # return flattened tensor\n",
    "    return tf.reshape(x_tensor, [-1, n])\n",
    "\n",
    "\n",
    "\"\"\"\n",
    "DON'T MODIFY ANYTHING IN THIS CELL THAT IS BELOW THIS LINE\n",
    "\"\"\"\n",
    "tests.test_flatten(flatten)"
   ]
  },
  {
   "cell_type": "markdown",
   "metadata": {
    "deletable": true,
    "editable": true
   },
   "source": [
    "### Fully-Connected Layer\n",
    "Implement the `fully_conn` function to apply a fully connected layer to `x_tensor` with the shape (*Batch Size*, *num_outputs*). Shortcut option: you can use classes from the [TensorFlow Layers](https://www.tensorflow.org/api_docs/python/tf/layers) or [TensorFlow Layers (contrib)](https://www.tensorflow.org/api_guides/python/contrib.layers) packages for this layer. For more of a challenge, only use other TensorFlow packages."
   ]
  },
  {
   "cell_type": "code",
   "execution_count": 95,
   "metadata": {
    "collapsed": false,
    "deletable": true,
    "editable": true
   },
   "outputs": [
    {
     "name": "stdout",
     "output_type": "stream",
     "text": [
      "Tensor(\"Placeholder_3:0\", shape=(?, 128), dtype=float32)\n",
      "Tests Passed\n"
     ]
    }
   ],
   "source": [
    "def fully_conn(x_tensor, num_outputs):\n",
    "    \"\"\"\n",
    "    Apply a fully connected layer to x_tensor using weight and bias\n",
    "    : x_tensor: A 2-D tensor where the first dimension is batch size.\n",
    "    : num_outputs: The number of output that the new tensor should be.\n",
    "    : return: A 2-D tensor where the second dimension is num_outputs.\n",
    "    \"\"\"\n",
    "    # TODO: Implement Function\n",
    "    \n",
    "    # calculate weights and biases\n",
    "    W = tf.Variable(tf.truncated_normal([x_tensor.shape[1].value, num_outputs], mean=0, stddev=1/(x_tensor.shape[1].value**0.5)))\n",
    "    b = tf.Variable(tf.zeros(num_outputs))\n",
    "    \n",
    "    # apply a fully-connected layer (with ReLU activation)\n",
    "    layer = tf.add(tf.matmul(x_tensor, W), b)\n",
    "    layer = tf.nn.relu(layer)\n",
    "    \n",
    "    return layer\n",
    "\n",
    "\n",
    "\"\"\"\n",
    "DON'T MODIFY ANYTHING IN THIS CELL THAT IS BELOW THIS LINE\n",
    "\"\"\"\n",
    "tests.test_fully_conn(fully_conn)"
   ]
  },
  {
   "cell_type": "markdown",
   "metadata": {
    "deletable": true,
    "editable": true
   },
   "source": [
    "### Output Layer\n",
    "Implement the `output` function to apply a fully connected layer to `x_tensor` with the shape (*Batch Size*, *num_outputs*). Shortcut option: you can use classes from the [TensorFlow Layers](https://www.tensorflow.org/api_docs/python/tf/layers) or [TensorFlow Layers (contrib)](https://www.tensorflow.org/api_guides/python/contrib.layers) packages for this layer. For more of a challenge, only use other TensorFlow packages.\n",
    "\n",
    "**Note:** Activation, softmax, or cross entropy should **not** be applied to this."
   ]
  },
  {
   "cell_type": "code",
   "execution_count": 48,
   "metadata": {
    "collapsed": false,
    "deletable": true,
    "editable": true
   },
   "outputs": [
    {
     "name": "stdout",
     "output_type": "stream",
     "text": [
      "Tests Passed\n"
     ]
    }
   ],
   "source": [
    "def output(x_tensor, num_outputs):\n",
    "    \"\"\"\n",
    "    Apply a output layer to x_tensor using weight and bias\n",
    "    : x_tensor: A 2-D tensor where the first dimension is batch size.\n",
    "    : num_outputs: The number of output that the new tensor should be.\n",
    "    : return: A 2-D tensor where the second dimension is num_outputs.\n",
    "    \"\"\"\n",
    "    # TODO: Implement Function\n",
    "    \n",
    "    # calculate weights and biases\n",
    "    W = tf.Variable(tf.truncated_normal([x_tensor.shape[1].value, num_outputs], mean=0, stddev=0.1))\n",
    "    b = tf.Variable(tf.zeros(num_outputs))\n",
    "    \n",
    "    # apply a fully-connected layer (without activation)\n",
    "    layer = tf.add(tf.matmul(x_tensor, W), b)\n",
    "    \n",
    "    return layer\n",
    "\n",
    "\n",
    "\"\"\"\n",
    "DON'T MODIFY ANYTHING IN THIS CELL THAT IS BELOW THIS LINE\n",
    "\"\"\"\n",
    "tests.test_output(output)"
   ]
  },
  {
   "cell_type": "markdown",
   "metadata": {
    "deletable": true,
    "editable": true
   },
   "source": [
    "### Create Convolutional Model\n",
    "Implement the function `conv_net` to create a convolutional neural network model. The function takes in a batch of images, `x`, and outputs logits.  Use the layers you created above to create this model:\n",
    "\n",
    "* Apply 1, 2, or 3 Convolution and Max Pool layers\n",
    "* Apply a Flatten Layer\n",
    "* Apply 1, 2, or 3 Fully Connected Layers\n",
    "* Apply an Output Layer\n",
    "* Return the output\n",
    "* Apply [TensorFlow's Dropout](https://www.tensorflow.org/api_docs/python/tf/nn/dropout) to one or more layers in the model using `keep_prob`. "
   ]
  },
  {
   "cell_type": "code",
   "execution_count": 110,
   "metadata": {
    "collapsed": false,
    "deletable": true,
    "editable": true
   },
   "outputs": [
    {
     "name": "stdout",
     "output_type": "stream",
     "text": [
      "Tensor(\"x:0\", shape=(?, 32, 32, 3), dtype=float32)\n",
      "Tensor(\"Reshape:0\", shape=(?, 65536), dtype=float32)\n",
      "Tensor(\"dropout/mul:0\", shape=(?, 300), dtype=float32)\n",
      "Tensor(\"dropout_1/mul:0\", shape=(?, 200), dtype=float32)\n",
      "Tensor(\"Placeholder:0\", shape=(?, 32, 32, 3), dtype=float32)\n",
      "Tensor(\"Reshape_4:0\", shape=(?, 65536), dtype=float32)\n",
      "Tensor(\"dropout_3/mul:0\", shape=(?, 300), dtype=float32)\n",
      "Tensor(\"dropout_4/mul:0\", shape=(?, 200), dtype=float32)\n",
      "Neural Network Built!\n"
     ]
    }
   ],
   "source": [
    "def conv_net(x, keep_prob):\n",
    "    \"\"\"\n",
    "    Create a convolutional neural network model\n",
    "    : x: Placeholder tensor that holds image data.\n",
    "    : keep_prob: Placeholder tensor that hold dropout keep probability.\n",
    "    : return: Tensor that represents logits\n",
    "    \"\"\"\n",
    "    # TODO: Apply 1, 2, or 3 Convolution and Max Pool layers\n",
    "    #    Play around with different number of outputs, kernel size and stride\n",
    "    # Function Definition from Above:\n",
    "    #    conv2d_maxpool(x_tensor, conv_num_outputs, conv_ksize, conv_strides, pool_ksize, pool_strides)\n",
    "    print(x)\n",
    "    conv_layer1 = conv2d_maxpool(x, 16, [8,8], [1,1], [2,2], [1,1])\n",
    "    conv_layer2 = conv2d_maxpool(conv_layer1, 32, [4,4], [1,1], [2,2], [1,1])\n",
    "    conv_layer3 = conv2d_maxpool(conv_layer2, 64, [2,2], [1,1], [2,2], [1,1])\n",
    "\n",
    "    # TODO: Apply a Flatten Layer\n",
    "    # Function Definition from Above:\n",
    "    #   flatten(x_tensor)\n",
    "    flat_layer = flatten(conv_layer3)\n",
    "    \n",
    "\n",
    "    # TODO: Apply 1, 2, or 3 Fully Connected Layers\n",
    "    #    Play around with different number of outputs\n",
    "    # Function Definition from Above:\n",
    "    #   fully_conn(x_tensor, num_outputs)\n",
    "    fc1 = fully_conn(flat_layer, 300)\n",
    "    fc1 = tf.nn.dropout(fc1, keep_prob)\n",
    "    fc2 = fully_conn(fc1, 200)\n",
    "    fc2 = tf.nn.dropout(fc2, keep_prob)\n",
    "    fc3 = fully_conn(fc2, 100)\n",
    "    fc3 = tf.nn.dropout(fc3, keep_prob)\n",
    "    \n",
    "    \n",
    "    # TODO: Apply an Output Layer\n",
    "    #    Set this to the number of classes\n",
    "    # Function Definition from Above:\n",
    "    #   output(x_tensor, num_outputs)\n",
    "    out = output(fc2, 10)\n",
    "    \n",
    "    \n",
    "    # TODO: return output\n",
    "    return out\n",
    "\n",
    "\n",
    "\"\"\"\n",
    "DON'T MODIFY ANYTHING IN THIS CELL THAT IS BELOW THIS LINE\n",
    "\"\"\"\n",
    "\n",
    "##############################\n",
    "## Build the Neural Network ##\n",
    "##############################\n",
    "\n",
    "# Remove previous weights, bias, inputs, etc..\n",
    "tf.reset_default_graph()\n",
    "\n",
    "# Inputs\n",
    "x = neural_net_image_input((32, 32, 3))\n",
    "y = neural_net_label_input(10)\n",
    "keep_prob = neural_net_keep_prob_input()\n",
    "\n",
    "# Model\n",
    "logits = conv_net(x, keep_prob)\n",
    "\n",
    "# Name logits Tensor, so that is can be loaded from disk after training\n",
    "logits = tf.identity(logits, name='logits')\n",
    "\n",
    "# Loss and Optimizer\n",
    "cost = tf.reduce_mean(tf.nn.softmax_cross_entropy_with_logits(logits=logits, labels=y))\n",
    "optimizer = tf.train.AdamOptimizer().minimize(cost)\n",
    "\n",
    "# Accuracy\n",
    "correct_pred = tf.equal(tf.argmax(logits, 1), tf.argmax(y, 1))\n",
    "accuracy = tf.reduce_mean(tf.cast(correct_pred, tf.float32), name='accuracy')\n",
    "\n",
    "tests.test_conv_net(conv_net)"
   ]
  },
  {
   "cell_type": "markdown",
   "metadata": {
    "deletable": true,
    "editable": true
   },
   "source": [
    "## Train the Neural Network\n",
    "### Single Optimization\n",
    "Implement the function `train_neural_network` to do a single optimization.  The optimization should use `optimizer` to optimize in `session` with a `feed_dict` of the following:\n",
    "* `x` for image input\n",
    "* `y` for labels\n",
    "* `keep_prob` for keep probability for dropout\n",
    "\n",
    "This function will be called for each batch, so `tf.global_variables_initializer()` has already been called.\n",
    "\n",
    "Note: Nothing needs to be returned. This function is only optimizing the neural network."
   ]
  },
  {
   "cell_type": "code",
   "execution_count": 55,
   "metadata": {
    "collapsed": false,
    "deletable": true,
    "editable": true
   },
   "outputs": [
    {
     "name": "stdout",
     "output_type": "stream",
     "text": [
      "Tests Passed\n"
     ]
    }
   ],
   "source": [
    "def train_neural_network(session, optimizer, keep_probability, feature_batch, label_batch):\n",
    "    \"\"\"\n",
    "    Optimize the session on a batch of images and labels\n",
    "    : session: Current TensorFlow session\n",
    "    : optimizer: TensorFlow optimizer function\n",
    "    : keep_probability: keep probability\n",
    "    : feature_batch: Batch of Numpy image data\n",
    "    : label_batch: Batch of Numpy label data\n",
    "    \"\"\"\n",
    "    # TODO: Implement Function\n",
    "    session.run(optimizer, feed_dict={x:feature_batch, y:label_batch, keep_prob:keep_probability})\n",
    "\n",
    "\n",
    "\"\"\"\n",
    "DON'T MODIFY ANYTHING IN THIS CELL THAT IS BELOW THIS LINE\n",
    "\"\"\"\n",
    "tests.test_train_nn(train_neural_network)"
   ]
  },
  {
   "cell_type": "markdown",
   "metadata": {
    "deletable": true,
    "editable": true
   },
   "source": [
    "### Show Stats\n",
    "Implement the function `print_stats` to print loss and validation accuracy.  Use the global variables `valid_features` and `valid_labels` to calculate validation accuracy.  Use a keep probability of `1.0` to calculate the loss and validation accuracy."
   ]
  },
  {
   "cell_type": "code",
   "execution_count": 57,
   "metadata": {
    "collapsed": false,
    "deletable": true,
    "editable": true
   },
   "outputs": [],
   "source": [
    "def print_stats(session, feature_batch, label_batch, cost, accuracy):\n",
    "    \"\"\"\n",
    "    Print information about loss and validation accuracy\n",
    "    : session: Current TensorFlow session\n",
    "    : feature_batch: Batch of Numpy image data\n",
    "    : label_batch: Batch of Numpy label data\n",
    "    : cost: TensorFlow cost function\n",
    "    : accuracy: TensorFlow accuracy function\n",
    "    \"\"\"\n",
    "    # TODO: Implement Function\n",
    "    \n",
    "    loss = session.run(cost, feed_dict={x:feature_batch, y:label_batch, keep_prob:1.0})\n",
    "    acc = session.run(accuracy, feed_dict={x:feature_batch, y:label_batch, keep_prob:1.0})\n",
    "    \n",
    "    print('Validation Loss: {}, Validation Accuracy: {}'.format(loss, acc))\n",
    "    pass"
   ]
  },
  {
   "cell_type": "markdown",
   "metadata": {
    "deletable": true,
    "editable": true
   },
   "source": [
    "### Hyperparameters\n",
    "Tune the following parameters:\n",
    "* Set `epochs` to the number of iterations until the network stops learning or start overfitting\n",
    "* Set `batch_size` to the highest number that your machine has memory for.  Most people set them to common sizes of memory:\n",
    " * 64\n",
    " * 128\n",
    " * 256\n",
    " * ...\n",
    "* Set `keep_probability` to the probability of keeping a node using dropout"
   ]
  },
  {
   "cell_type": "code",
   "execution_count": 103,
   "metadata": {
    "collapsed": true,
    "deletable": true,
    "editable": true
   },
   "outputs": [],
   "source": [
    "# TODO: Tune Parameters\n",
    "epochs = 50\n",
    "batch_size = 512\n",
    "keep_probability = 0.75"
   ]
  },
  {
   "cell_type": "markdown",
   "metadata": {
    "deletable": true,
    "editable": true
   },
   "source": [
    "### Train on a Single CIFAR-10 Batch\n",
    "Instead of training the neural network on all the CIFAR-10 batches of data, let's use a single batch. This should save time while you iterate on the model to get a better accuracy.  Once the final validation accuracy is 50% or greater, run the model on all the data in the next section."
   ]
  },
  {
   "cell_type": "code",
   "execution_count": 111,
   "metadata": {
    "collapsed": false,
    "deletable": true,
    "editable": true
   },
   "outputs": [
    {
     "name": "stdout",
     "output_type": "stream",
     "text": [
      "Checking the Training on a Single Batch...\n",
      "Epoch  1, CIFAR-10 Batch 1:  Validation Loss: 2.1139278411865234, Validation Accuracy: 0.22297298908233643\n",
      "Epoch  2, CIFAR-10 Batch 1:  Validation Loss: 2.022869825363159, Validation Accuracy: 0.28378379344940186\n",
      "Epoch  3, CIFAR-10 Batch 1:  Validation Loss: 1.974995732307434, Validation Accuracy: 0.27702704071998596\n",
      "Epoch  4, CIFAR-10 Batch 1:  Validation Loss: 1.9195820093154907, Validation Accuracy: 0.32094597816467285\n",
      "Epoch  5, CIFAR-10 Batch 1:  Validation Loss: 1.8276629447937012, Validation Accuracy: 0.3547297418117523\n",
      "Epoch  6, CIFAR-10 Batch 1:  Validation Loss: 1.7496018409729004, Validation Accuracy: 0.36486485600471497\n",
      "Epoch  7, CIFAR-10 Batch 1:  Validation Loss: 1.6949633359909058, Validation Accuracy: 0.3986486792564392\n",
      "Epoch  8, CIFAR-10 Batch 1:  Validation Loss: 1.7157564163208008, Validation Accuracy: 0.3885135054588318\n",
      "Epoch  9, CIFAR-10 Batch 1:  Validation Loss: 1.5651308298110962, Validation Accuracy: 0.4425675868988037\n",
      "Epoch 10, CIFAR-10 Batch 1:  Validation Loss: 1.4954724311828613, Validation Accuracy: 0.47635138034820557\n",
      "Epoch 11, CIFAR-10 Batch 1:  Validation Loss: 1.425450325012207, Validation Accuracy: 0.46283790469169617\n",
      "Epoch 12, CIFAR-10 Batch 1:  Validation Loss: 1.3628308773040771, Validation Accuracy: 0.5101351141929626\n",
      "Epoch 13, CIFAR-10 Batch 1:  Validation Loss: 1.301125168800354, Validation Accuracy: 0.5236486792564392\n",
      "Epoch 14, CIFAR-10 Batch 1:  Validation Loss: 1.2507762908935547, Validation Accuracy: 0.5405405759811401\n",
      "Epoch 15, CIFAR-10 Batch 1:  Validation Loss: 1.1389845609664917, Validation Accuracy: 0.5979730486869812\n",
      "Epoch 16, CIFAR-10 Batch 1:  Validation Loss: 1.1305756568908691, Validation Accuracy: 0.587837815284729\n",
      "Epoch 17, CIFAR-10 Batch 1:  Validation Loss: 1.0283257961273193, Validation Accuracy: 0.648648738861084\n",
      "Epoch 18, CIFAR-10 Batch 1:  Validation Loss: 0.9648252725601196, Validation Accuracy: 0.6925676465034485\n",
      "Epoch 19, CIFAR-10 Batch 1:  Validation Loss: 0.9064642786979675, Validation Accuracy: 0.7060811519622803\n",
      "Epoch 20, CIFAR-10 Batch 1:  Validation Loss: 0.8716421127319336, Validation Accuracy: 0.7500000596046448\n",
      "Epoch 21, CIFAR-10 Batch 1:  Validation Loss: 0.7942561507225037, Validation Accuracy: 0.7533783912658691\n",
      "Epoch 22, CIFAR-10 Batch 1:  Validation Loss: 0.7641929984092712, Validation Accuracy: 0.7770270705223083\n",
      "Epoch 23, CIFAR-10 Batch 1:  Validation Loss: 0.7484162449836731, Validation Accuracy: 0.8108108639717102\n",
      "Epoch 24, CIFAR-10 Batch 1:  Validation Loss: 0.6875547766685486, Validation Accuracy: 0.7972973585128784\n",
      "Epoch 25, CIFAR-10 Batch 1:  Validation Loss: 0.6352015137672424, Validation Accuracy: 0.8243244290351868\n",
      "Epoch 26, CIFAR-10 Batch 1:  Validation Loss: 0.5451096296310425, Validation Accuracy: 0.8783783316612244\n",
      "Epoch 27, CIFAR-10 Batch 1:  Validation Loss: 0.5000239610671997, Validation Accuracy: 0.8682432770729065\n",
      "Epoch 28, CIFAR-10 Batch 1:  Validation Loss: 0.4974980652332306, Validation Accuracy: 0.8648649454116821\n",
      "Epoch 29, CIFAR-10 Batch 1:  Validation Loss: 0.45828038454055786, Validation Accuracy: 0.8682432174682617\n",
      "Epoch 30, CIFAR-10 Batch 1:  Validation Loss: 0.5225279927253723, Validation Accuracy: 0.8479729890823364\n",
      "Epoch 31, CIFAR-10 Batch 1:  Validation Loss: 0.44599422812461853, Validation Accuracy: 0.8783783912658691\n",
      "Epoch 32, CIFAR-10 Batch 1:  Validation Loss: 0.5178813934326172, Validation Accuracy: 0.8648649454116821\n",
      "Epoch 33, CIFAR-10 Batch 1:  Validation Loss: 0.4384627044200897, Validation Accuracy: 0.9020270705223083\n",
      "Epoch 34, CIFAR-10 Batch 1:  Validation Loss: 0.41992422938346863, Validation Accuracy: 0.8952703475952148\n",
      "Epoch 35, CIFAR-10 Batch 1:  Validation Loss: 0.41853049397468567, Validation Accuracy: 0.8750000596046448\n",
      "Epoch 36, CIFAR-10 Batch 1:  Validation Loss: 0.3650406002998352, Validation Accuracy: 0.8885135054588318\n",
      "Epoch 37, CIFAR-10 Batch 1:  Validation Loss: 0.2550056278705597, Validation Accuracy: 0.9290540218353271\n",
      "Epoch 38, CIFAR-10 Batch 1:  Validation Loss: 0.21239911019802094, Validation Accuracy: 0.9527027010917664\n",
      "Epoch 39, CIFAR-10 Batch 1:  Validation Loss: 0.1825563907623291, Validation Accuracy: 0.962837815284729\n",
      "Epoch 40, CIFAR-10 Batch 1:  Validation Loss: 0.23832285404205322, Validation Accuracy: 0.9391891360282898\n",
      "Epoch 41, CIFAR-10 Batch 1:  Validation Loss: 0.17852213978767395, Validation Accuracy: 0.9729729890823364\n",
      "Epoch 42, CIFAR-10 Batch 1:  Validation Loss: 0.15619559586048126, Validation Accuracy: 0.9729729890823364\n",
      "Epoch 43, CIFAR-10 Batch 1:  Validation Loss: 0.14199714362621307, Validation Accuracy: 0.9797297716140747\n",
      "Epoch 44, CIFAR-10 Batch 1:  Validation Loss: 0.14489321410655975, Validation Accuracy: 0.9695945978164673\n",
      "Epoch 45, CIFAR-10 Batch 1:  Validation Loss: 0.13520748913288116, Validation Accuracy: 0.9831081628799438\n",
      "Epoch 46, CIFAR-10 Batch 1:  Validation Loss: 0.11404117196798325, Validation Accuracy: 0.9797297716140747\n",
      "Epoch 47, CIFAR-10 Batch 1:  Validation Loss: 0.10842827707529068, Validation Accuracy: 0.9797297716140747\n",
      "Epoch 48, CIFAR-10 Batch 1:  Validation Loss: 0.11108695715665817, Validation Accuracy: 0.9729729890823364\n",
      "Epoch 49, CIFAR-10 Batch 1:  Validation Loss: 0.10586390644311905, Validation Accuracy: 0.9763513803482056\n",
      "Epoch 50, CIFAR-10 Batch 1:  Validation Loss: 0.09737987816333771, Validation Accuracy: 0.9898649454116821\n"
     ]
    }
   ],
   "source": [
    "\"\"\"\n",
    "DON'T MODIFY ANYTHING IN THIS CELL\n",
    "\"\"\"\n",
    "print('Checking the Training on a Single Batch...')\n",
    "with tf.Session() as sess:\n",
    "    # Initializing the variables\n",
    "    sess.run(tf.global_variables_initializer())\n",
    "    \n",
    "    # Training cycle\n",
    "    for epoch in range(epochs):\n",
    "        batch_i = 1\n",
    "        for batch_features, batch_labels in helper.load_preprocess_training_batch(batch_i, batch_size):\n",
    "            train_neural_network(sess, optimizer, keep_probability, batch_features, batch_labels)\n",
    "        print('Epoch {:>2}, CIFAR-10 Batch {}:  '.format(epoch + 1, batch_i), end='')\n",
    "        print_stats(sess, batch_features, batch_labels, cost, accuracy)"
   ]
  },
  {
   "cell_type": "markdown",
   "metadata": {
    "deletable": true,
    "editable": true
   },
   "source": [
    "### Fully Train the Model\n",
    "Now that you got a good accuracy with a single CIFAR-10 batch, try it with all five batches."
   ]
  },
  {
   "cell_type": "code",
   "execution_count": 112,
   "metadata": {
    "collapsed": false,
    "deletable": true,
    "editable": true
   },
   "outputs": [
    {
     "name": "stdout",
     "output_type": "stream",
     "text": [
      "Training...\n",
      "Epoch  1, CIFAR-10 Batch 1:  Validation Loss: 2.176136016845703, Validation Accuracy: 0.20945946872234344\n",
      "Epoch  1, CIFAR-10 Batch 2:  Validation Loss: 2.0065536499023438, Validation Accuracy: 0.27027028799057007\n",
      "Epoch  1, CIFAR-10 Batch 3:  Validation Loss: 1.8674430847167969, Validation Accuracy: 0.32094597816467285\n",
      "Epoch  1, CIFAR-10 Batch 4:  Validation Loss: 1.7343381643295288, Validation Accuracy: 0.40878382325172424\n",
      "Epoch  1, CIFAR-10 Batch 5:  Validation Loss: 1.774958610534668, Validation Accuracy: 0.37162163853645325\n",
      "Epoch  2, CIFAR-10 Batch 1:  Validation Loss: 1.8201227188110352, Validation Accuracy: 0.33445948362350464\n",
      "Epoch  2, CIFAR-10 Batch 2:  Validation Loss: 1.7022382020950317, Validation Accuracy: 0.3918918967247009\n",
      "Epoch  2, CIFAR-10 Batch 3:  Validation Loss: 1.5705811977386475, Validation Accuracy: 0.41554057598114014\n",
      "Epoch  2, CIFAR-10 Batch 4:  Validation Loss: 1.5691547393798828, Validation Accuracy: 0.4560810923576355\n",
      "Epoch  2, CIFAR-10 Batch 5:  Validation Loss: 1.6086231470108032, Validation Accuracy: 0.4290540814399719\n",
      "Epoch  3, CIFAR-10 Batch 1:  Validation Loss: 1.6900677680969238, Validation Accuracy: 0.3817567825317383\n",
      "Epoch  3, CIFAR-10 Batch 2:  Validation Loss: 1.5232317447662354, Validation Accuracy: 0.4628378450870514\n",
      "Epoch  3, CIFAR-10 Batch 3:  Validation Loss: 1.4199005365371704, Validation Accuracy: 0.4831081032752991\n",
      "Epoch  3, CIFAR-10 Batch 4:  Validation Loss: 1.4108980894088745, Validation Accuracy: 0.4797297716140747\n",
      "Epoch  3, CIFAR-10 Batch 5:  Validation Loss: 1.5053539276123047, Validation Accuracy: 0.46621620655059814\n",
      "Epoch  4, CIFAR-10 Batch 1:  Validation Loss: 1.5679594278335571, Validation Accuracy: 0.45270273089408875\n",
      "Epoch  4, CIFAR-10 Batch 2:  Validation Loss: 1.4256978034973145, Validation Accuracy: 0.48986488580703735\n",
      "Epoch  4, CIFAR-10 Batch 3:  Validation Loss: 1.2925691604614258, Validation Accuracy: 0.5405405759811401\n",
      "Epoch  4, CIFAR-10 Batch 4:  Validation Loss: 1.3074644804000854, Validation Accuracy: 0.48986488580703735\n",
      "Epoch  4, CIFAR-10 Batch 5:  Validation Loss: 1.4077887535095215, Validation Accuracy: 0.47635138034820557\n",
      "Epoch  5, CIFAR-10 Batch 1:  Validation Loss: 1.4607515335083008, Validation Accuracy: 0.4864865243434906\n",
      "Epoch  5, CIFAR-10 Batch 2:  Validation Loss: 1.397419810295105, Validation Accuracy: 0.5067567825317383\n",
      "Epoch  5, CIFAR-10 Batch 3:  Validation Loss: 1.2003343105316162, Validation Accuracy: 0.5743243098258972\n",
      "Epoch  5, CIFAR-10 Batch 4:  Validation Loss: 1.245513677597046, Validation Accuracy: 0.5405405759811401\n",
      "Epoch  5, CIFAR-10 Batch 5:  Validation Loss: 1.3015687465667725, Validation Accuracy: 0.5270270705223083\n",
      "Epoch  6, CIFAR-10 Batch 1:  Validation Loss: 1.376855731010437, Validation Accuracy: 0.5101351737976074\n",
      "Epoch  6, CIFAR-10 Batch 2:  Validation Loss: 1.3103328943252563, Validation Accuracy: 0.5641891956329346\n",
      "Epoch  6, CIFAR-10 Batch 3:  Validation Loss: 1.1242852210998535, Validation Accuracy: 0.5912162661552429\n",
      "Epoch  6, CIFAR-10 Batch 4:  Validation Loss: 1.1133592128753662, Validation Accuracy: 0.5844594836235046\n",
      "Epoch  6, CIFAR-10 Batch 5:  Validation Loss: 1.239173173904419, Validation Accuracy: 0.5540540218353271\n",
      "Epoch  7, CIFAR-10 Batch 1:  Validation Loss: 1.3102972507476807, Validation Accuracy: 0.5304054021835327\n",
      "Epoch  7, CIFAR-10 Batch 2:  Validation Loss: 1.2086379528045654, Validation Accuracy: 0.6047297716140747\n",
      "Epoch  7, CIFAR-10 Batch 3:  Validation Loss: 1.0345500707626343, Validation Accuracy: 0.6250000596046448\n",
      "Epoch  7, CIFAR-10 Batch 4:  Validation Loss: 1.070449709892273, Validation Accuracy: 0.6148648858070374\n",
      "Epoch  7, CIFAR-10 Batch 5:  Validation Loss: 1.184719204902649, Validation Accuracy: 0.5608108043670654\n",
      "Epoch  8, CIFAR-10 Batch 1:  Validation Loss: 1.1957402229309082, Validation Accuracy: 0.5777027606964111\n",
      "Epoch  8, CIFAR-10 Batch 2:  Validation Loss: 1.0990036725997925, Validation Accuracy: 0.6216216683387756\n",
      "Epoch  8, CIFAR-10 Batch 3:  Validation Loss: 0.9775094389915466, Validation Accuracy: 0.6283783912658691\n",
      "Epoch  8, CIFAR-10 Batch 4:  Validation Loss: 0.9844151139259338, Validation Accuracy: 0.6283783912658691\n",
      "Epoch  8, CIFAR-10 Batch 5:  Validation Loss: 1.1041675806045532, Validation Accuracy: 0.6013513803482056\n",
      "Epoch  9, CIFAR-10 Batch 1:  Validation Loss: 1.0923737287521362, Validation Accuracy: 0.6148648858070374\n",
      "Epoch  9, CIFAR-10 Batch 2:  Validation Loss: 1.0239652395248413, Validation Accuracy: 0.6554054021835327\n",
      "Epoch  9, CIFAR-10 Batch 3:  Validation Loss: 0.931071937084198, Validation Accuracy: 0.6587838530540466\n",
      "Epoch  9, CIFAR-10 Batch 4:  Validation Loss: 0.9330437183380127, Validation Accuracy: 0.6655406355857849\n",
      "Epoch  9, CIFAR-10 Batch 5:  Validation Loss: 1.0101627111434937, Validation Accuracy: 0.6520270705223083\n",
      "Epoch 10, CIFAR-10 Batch 1:  Validation Loss: 1.013198971748352, Validation Accuracy: 0.662162184715271\n",
      "Epoch 10, CIFAR-10 Batch 2:  Validation Loss: 0.9594311714172363, Validation Accuracy: 0.6587837934494019\n",
      "Epoch 10, CIFAR-10 Batch 3:  Validation Loss: 0.8554797768592834, Validation Accuracy: 0.6891891956329346\n",
      "Epoch 10, CIFAR-10 Batch 4:  Validation Loss: 0.8689723610877991, Validation Accuracy: 0.6925676465034485\n",
      "Epoch 10, CIFAR-10 Batch 5:  Validation Loss: 0.9564546346664429, Validation Accuracy: 0.6587837934494019\n",
      "Epoch 11, CIFAR-10 Batch 1:  Validation Loss: 0.9148877859115601, Validation Accuracy: 0.6925675868988037\n",
      "Epoch 11, CIFAR-10 Batch 2:  Validation Loss: 0.9630993604660034, Validation Accuracy: 0.6587837934494019\n",
      "Epoch 11, CIFAR-10 Batch 3:  Validation Loss: 0.7947795391082764, Validation Accuracy: 0.7094595432281494\n",
      "Epoch 11, CIFAR-10 Batch 4:  Validation Loss: 0.767134428024292, Validation Accuracy: 0.7364864945411682\n",
      "Epoch 11, CIFAR-10 Batch 5:  Validation Loss: 0.8801930546760559, Validation Accuracy: 0.7128379344940186\n",
      "Epoch 12, CIFAR-10 Batch 1:  Validation Loss: 0.8211301565170288, Validation Accuracy: 0.7195945978164673\n",
      "Epoch 12, CIFAR-10 Batch 2:  Validation Loss: 0.838007926940918, Validation Accuracy: 0.7195945978164673\n",
      "Epoch 12, CIFAR-10 Batch 3:  Validation Loss: 0.7365520000457764, Validation Accuracy: 0.7398649454116821\n",
      "Epoch 12, CIFAR-10 Batch 4:  Validation Loss: 0.7177348732948303, Validation Accuracy: 0.7297297716140747\n",
      "Epoch 12, CIFAR-10 Batch 5:  Validation Loss: 0.796765148639679, Validation Accuracy: 0.7229730486869812\n",
      "Epoch 13, CIFAR-10 Batch 1:  Validation Loss: 0.7394064664840698, Validation Accuracy: 0.7500000596046448\n",
      "Epoch 13, CIFAR-10 Batch 2:  Validation Loss: 0.8200629949569702, Validation Accuracy: 0.7297298312187195\n",
      "Epoch 13, CIFAR-10 Batch 3:  Validation Loss: 0.6890121102333069, Validation Accuracy: 0.7601351141929626\n",
      "Epoch 13, CIFAR-10 Batch 4:  Validation Loss: 0.6643807291984558, Validation Accuracy: 0.7770270705223083\n",
      "Epoch 13, CIFAR-10 Batch 5:  Validation Loss: 0.738474428653717, Validation Accuracy: 0.7533783912658691\n",
      "Epoch 14, CIFAR-10 Batch 1:  Validation Loss: 0.7548353672027588, Validation Accuracy: 0.7331081628799438\n",
      "Epoch 14, CIFAR-10 Batch 2:  Validation Loss: 0.7610465884208679, Validation Accuracy: 0.7466216087341309\n",
      "Epoch 14, CIFAR-10 Batch 3:  Validation Loss: 0.6766219139099121, Validation Accuracy: 0.7567567825317383\n",
      "Epoch 14, CIFAR-10 Batch 4:  Validation Loss: 0.5971970558166504, Validation Accuracy: 0.8074324131011963\n",
      "Epoch 14, CIFAR-10 Batch 5:  Validation Loss: 0.7028031349182129, Validation Accuracy: 0.7668919563293457\n",
      "Epoch 15, CIFAR-10 Batch 1:  Validation Loss: 0.7108712196350098, Validation Accuracy: 0.7770270109176636\n",
      "Epoch 15, CIFAR-10 Batch 2:  Validation Loss: 0.6856257319450378, Validation Accuracy: 0.7939189076423645\n",
      "Epoch 15, CIFAR-10 Batch 3:  Validation Loss: 0.6050983667373657, Validation Accuracy: 0.7905405759811401\n",
      "Epoch 15, CIFAR-10 Batch 4:  Validation Loss: 0.5704691410064697, Validation Accuracy: 0.8108108639717102\n",
      "Epoch 15, CIFAR-10 Batch 5:  Validation Loss: 0.6506351828575134, Validation Accuracy: 0.8040540814399719\n",
      "Epoch 16, CIFAR-10 Batch 1:  Validation Loss: 0.6659148931503296, Validation Accuracy: 0.7905405759811401\n",
      "Epoch 16, CIFAR-10 Batch 2:  Validation Loss: 0.6477355360984802, Validation Accuracy: 0.787162184715271\n",
      "Epoch 16, CIFAR-10 Batch 3:  Validation Loss: 0.6114122271537781, Validation Accuracy: 0.7905405759811401\n",
      "Epoch 16, CIFAR-10 Batch 4:  Validation Loss: 0.540773868560791, Validation Accuracy: 0.8310810923576355\n",
      "Epoch 16, CIFAR-10 Batch 5:  Validation Loss: 0.5933001041412354, Validation Accuracy: 0.8040540814399719\n",
      "Epoch 17, CIFAR-10 Batch 1:  Validation Loss: 0.6599557399749756, Validation Accuracy: 0.7972973585128784\n",
      "Epoch 17, CIFAR-10 Batch 2:  Validation Loss: 0.6883834600448608, Validation Accuracy: 0.736486554145813\n",
      "Epoch 17, CIFAR-10 Batch 3:  Validation Loss: 0.5687419772148132, Validation Accuracy: 0.8412162661552429\n",
      "Epoch 17, CIFAR-10 Batch 4:  Validation Loss: 0.5262932777404785, Validation Accuracy: 0.8412162661552429\n",
      "Epoch 17, CIFAR-10 Batch 5:  Validation Loss: 0.6241809129714966, Validation Accuracy: 0.7905405759811401\n",
      "Epoch 18, CIFAR-10 Batch 1:  Validation Loss: 0.5739187002182007, Validation Accuracy: 0.8277027606964111\n",
      "Epoch 18, CIFAR-10 Batch 2:  Validation Loss: 0.5797021985054016, Validation Accuracy: 0.8074324727058411\n",
      "Epoch 18, CIFAR-10 Batch 3:  Validation Loss: 0.48970356583595276, Validation Accuracy: 0.8581081032752991\n",
      "Epoch 18, CIFAR-10 Batch 4:  Validation Loss: 0.472226083278656, Validation Accuracy: 0.8682432770729065\n",
      "Epoch 18, CIFAR-10 Batch 5:  Validation Loss: 0.5942554473876953, Validation Accuracy: 0.8175675868988037\n",
      "Epoch 19, CIFAR-10 Batch 1:  Validation Loss: 0.5838755369186401, Validation Accuracy: 0.8040540814399719\n",
      "Epoch 19, CIFAR-10 Batch 2:  Validation Loss: 0.5331198573112488, Validation Accuracy: 0.824324369430542\n",
      "Epoch 19, CIFAR-10 Batch 3:  Validation Loss: 0.458178848028183, Validation Accuracy: 0.8648649454116821\n",
      "Epoch 19, CIFAR-10 Batch 4:  Validation Loss: 0.41587233543395996, Validation Accuracy: 0.868243396282196\n",
      "Epoch 19, CIFAR-10 Batch 5:  Validation Loss: 0.5303170680999756, Validation Accuracy: 0.824324369430542\n",
      "Epoch 20, CIFAR-10 Batch 1:  Validation Loss: 0.5430939197540283, Validation Accuracy: 0.8277027010917664\n",
      "Epoch 20, CIFAR-10 Batch 2:  Validation Loss: 0.47588929533958435, Validation Accuracy: 0.8547297716140747\n",
      "Epoch 20, CIFAR-10 Batch 3:  Validation Loss: 0.413584440946579, Validation Accuracy: 0.8817567825317383\n",
      "Epoch 20, CIFAR-10 Batch 4:  Validation Loss: 0.3938823640346527, Validation Accuracy: 0.9155404567718506\n",
      "Epoch 20, CIFAR-10 Batch 5:  Validation Loss: 0.5313356518745422, Validation Accuracy: 0.8175675868988037\n",
      "Epoch 21, CIFAR-10 Batch 1:  Validation Loss: 0.4645773470401764, Validation Accuracy: 0.8547297120094299\n",
      "Epoch 21, CIFAR-10 Batch 2:  Validation Loss: 0.5062493681907654, Validation Accuracy: 0.8682432174682617\n",
      "Epoch 21, CIFAR-10 Batch 3:  Validation Loss: 0.39089202880859375, Validation Accuracy: 0.8851351737976074\n",
      "Epoch 21, CIFAR-10 Batch 4:  Validation Loss: 0.3587006628513336, Validation Accuracy: 0.9087837934494019\n",
      "Epoch 21, CIFAR-10 Batch 5:  Validation Loss: 0.4729735255241394, Validation Accuracy: 0.8648648262023926\n",
      "Epoch 22, CIFAR-10 Batch 1:  Validation Loss: 0.41330599784851074, Validation Accuracy: 0.8682432770729065\n",
      "Epoch 22, CIFAR-10 Batch 2:  Validation Loss: 0.4354071021080017, Validation Accuracy: 0.888513445854187\n",
      "Epoch 22, CIFAR-10 Batch 3:  Validation Loss: 0.33391377329826355, Validation Accuracy: 0.9087837934494019\n",
      "Epoch 22, CIFAR-10 Batch 4:  Validation Loss: 0.330438494682312, Validation Accuracy: 0.9020270705223083\n",
      "Epoch 22, CIFAR-10 Batch 5:  Validation Loss: 0.4333305060863495, Validation Accuracy: 0.8682432770729065\n",
      "Epoch 23, CIFAR-10 Batch 1:  Validation Loss: 0.36595824360847473, Validation Accuracy: 0.8918918967247009\n",
      "Epoch 23, CIFAR-10 Batch 2:  Validation Loss: 0.44988688826560974, Validation Accuracy: 0.8716216087341309\n",
      "Epoch 23, CIFAR-10 Batch 3:  Validation Loss: 0.33074599504470825, Validation Accuracy: 0.925675630569458\n",
      "Epoch 23, CIFAR-10 Batch 4:  Validation Loss: 0.31080004572868347, Validation Accuracy: 0.9256757497787476\n",
      "Epoch 23, CIFAR-10 Batch 5:  Validation Loss: 0.4331086277961731, Validation Accuracy: 0.8817567825317383\n",
      "Epoch 24, CIFAR-10 Batch 1:  Validation Loss: 0.319763720035553, Validation Accuracy: 0.9054054617881775\n",
      "Epoch 24, CIFAR-10 Batch 2:  Validation Loss: 0.3718835711479187, Validation Accuracy: 0.8952702283859253\n",
      "Epoch 24, CIFAR-10 Batch 3:  Validation Loss: 0.3619976341724396, Validation Accuracy: 0.9020270109176636\n",
      "Epoch 24, CIFAR-10 Batch 4:  Validation Loss: 0.2804737091064453, Validation Accuracy: 0.9459458589553833\n",
      "Epoch 24, CIFAR-10 Batch 5:  Validation Loss: 0.4175635874271393, Validation Accuracy: 0.8918918371200562\n",
      "Epoch 25, CIFAR-10 Batch 1:  Validation Loss: 0.33833372592926025, Validation Accuracy: 0.8986486792564392\n",
      "Epoch 25, CIFAR-10 Batch 2:  Validation Loss: 0.3497657775878906, Validation Accuracy: 0.9020270109176636\n",
      "Epoch 25, CIFAR-10 Batch 3:  Validation Loss: 0.32058078050613403, Validation Accuracy: 0.9189189672470093\n",
      "Epoch 25, CIFAR-10 Batch 4:  Validation Loss: 0.2880641520023346, Validation Accuracy: 0.9222972989082336\n",
      "Epoch 25, CIFAR-10 Batch 5:  Validation Loss: 0.36958247423171997, Validation Accuracy: 0.8952702879905701\n",
      "Epoch 26, CIFAR-10 Batch 1:  Validation Loss: 0.35394060611724854, Validation Accuracy: 0.9020270705223083\n",
      "Epoch 26, CIFAR-10 Batch 2:  Validation Loss: 0.29734060168266296, Validation Accuracy: 0.9121621251106262\n",
      "Epoch 26, CIFAR-10 Batch 3:  Validation Loss: 0.3090117871761322, Validation Accuracy: 0.9087837934494019\n",
      "Epoch 26, CIFAR-10 Batch 4:  Validation Loss: 0.2817571759223938, Validation Accuracy: 0.9324324727058411\n",
      "Epoch 26, CIFAR-10 Batch 5:  Validation Loss: 0.38836121559143066, Validation Accuracy: 0.8918918967247009\n",
      "Epoch 27, CIFAR-10 Batch 1:  Validation Loss: 0.3292156159877777, Validation Accuracy: 0.912162184715271\n",
      "Epoch 27, CIFAR-10 Batch 2:  Validation Loss: 0.31521910429000854, Validation Accuracy: 0.9155405759811401\n",
      "Epoch 27, CIFAR-10 Batch 3:  Validation Loss: 0.2558256685733795, Validation Accuracy: 0.9527026414871216\n",
      "Epoch 27, CIFAR-10 Batch 4:  Validation Loss: 0.24602703750133514, Validation Accuracy: 0.9425675272941589\n",
      "Epoch 27, CIFAR-10 Batch 5:  Validation Loss: 0.3155165910720825, Validation Accuracy: 0.9155405759811401\n",
      "Epoch 28, CIFAR-10 Batch 1:  Validation Loss: 0.34398216009140015, Validation Accuracy: 0.8986486792564392\n",
      "Epoch 28, CIFAR-10 Batch 2:  Validation Loss: 0.2932705879211426, Validation Accuracy: 0.9290540814399719\n",
      "Epoch 28, CIFAR-10 Batch 3:  Validation Loss: 0.22901594638824463, Validation Accuracy: 0.9594594240188599\n",
      "Epoch 28, CIFAR-10 Batch 4:  Validation Loss: 0.21244756877422333, Validation Accuracy: 0.9662162065505981\n",
      "Epoch 28, CIFAR-10 Batch 5:  Validation Loss: 0.35285037755966187, Validation Accuracy: 0.9054054021835327\n",
      "Epoch 29, CIFAR-10 Batch 1:  Validation Loss: 0.3182699978351593, Validation Accuracy: 0.9155405759811401\n",
      "Epoch 29, CIFAR-10 Batch 2:  Validation Loss: 0.23624975979328156, Validation Accuracy: 0.935810923576355\n",
      "Epoch 29, CIFAR-10 Batch 3:  Validation Loss: 0.20319724082946777, Validation Accuracy: 0.9695945978164673\n",
      "Epoch 29, CIFAR-10 Batch 4:  Validation Loss: 0.1875377744436264, Validation Accuracy: 0.9425675868988037\n",
      "Epoch 29, CIFAR-10 Batch 5:  Validation Loss: 0.2515031695365906, Validation Accuracy: 0.9425675868988037\n",
      "Epoch 30, CIFAR-10 Batch 1:  Validation Loss: 0.27830129861831665, Validation Accuracy: 0.9290540218353271\n",
      "Epoch 30, CIFAR-10 Batch 2:  Validation Loss: 0.2063997983932495, Validation Accuracy: 0.9560810327529907\n",
      "Epoch 30, CIFAR-10 Batch 3:  Validation Loss: 0.21929121017456055, Validation Accuracy: 0.9459460377693176\n",
      "Epoch 30, CIFAR-10 Batch 4:  Validation Loss: 0.17561598122119904, Validation Accuracy: 0.962837815284729\n",
      "Epoch 30, CIFAR-10 Batch 5:  Validation Loss: 0.30158722400665283, Validation Accuracy: 0.9324325323104858\n",
      "Epoch 31, CIFAR-10 Batch 1:  Validation Loss: 0.24725539982318878, Validation Accuracy: 0.9358108043670654\n",
      "Epoch 31, CIFAR-10 Batch 2:  Validation Loss: 0.265140563249588, Validation Accuracy: 0.9459459781646729\n",
      "Epoch 31, CIFAR-10 Batch 3:  Validation Loss: 0.20991860330104828, Validation Accuracy: 0.9594594240188599\n",
      "Epoch 31, CIFAR-10 Batch 4:  Validation Loss: 0.16890551149845123, Validation Accuracy: 0.962837815284729\n",
      "Epoch 31, CIFAR-10 Batch 5:  Validation Loss: 0.23628732562065125, Validation Accuracy: 0.9391891956329346\n",
      "Epoch 32, CIFAR-10 Batch 1:  Validation Loss: 0.2572970986366272, Validation Accuracy: 0.9425675868988037\n",
      "Epoch 32, CIFAR-10 Batch 2:  Validation Loss: 0.23124989867210388, Validation Accuracy: 0.9560810327529907\n",
      "Epoch 32, CIFAR-10 Batch 3:  Validation Loss: 0.20703135430812836, Validation Accuracy: 0.9391891956329346\n",
      "Epoch 32, CIFAR-10 Batch 4:  Validation Loss: 0.15222947299480438, Validation Accuracy: 0.9763513803482056\n",
      "Epoch 32, CIFAR-10 Batch 5:  Validation Loss: 0.20985691249370575, Validation Accuracy: 0.9425675272941589\n",
      "Epoch 33, CIFAR-10 Batch 1:  Validation Loss: 0.2259560525417328, Validation Accuracy: 0.9358108639717102\n",
      "Epoch 33, CIFAR-10 Batch 2:  Validation Loss: 0.21382197737693787, Validation Accuracy: 0.9594594836235046\n",
      "Epoch 33, CIFAR-10 Batch 3:  Validation Loss: 0.2730770409107208, Validation Accuracy: 0.9358108043670654\n",
      "Epoch 33, CIFAR-10 Batch 4:  Validation Loss: 0.17283684015274048, Validation Accuracy: 0.9763513803482056\n",
      "Epoch 33, CIFAR-10 Batch 5:  Validation Loss: 0.1818348616361618, Validation Accuracy: 0.9560810327529907\n",
      "Epoch 34, CIFAR-10 Batch 1:  Validation Loss: 0.21853604912757874, Validation Accuracy: 0.9459459185600281\n",
      "Epoch 34, CIFAR-10 Batch 2:  Validation Loss: 0.18292759358882904, Validation Accuracy: 0.9560810923576355\n",
      "Epoch 34, CIFAR-10 Batch 3:  Validation Loss: 0.22354164719581604, Validation Accuracy: 0.9459459781646729\n",
      "Epoch 34, CIFAR-10 Batch 4:  Validation Loss: 0.14447623491287231, Validation Accuracy: 0.9729729890823364\n",
      "Epoch 34, CIFAR-10 Batch 5:  Validation Loss: 0.16932448744773865, Validation Accuracy: 0.9594594240188599\n",
      "Epoch 35, CIFAR-10 Batch 1:  Validation Loss: 0.18250375986099243, Validation Accuracy: 0.9459459781646729\n",
      "Epoch 35, CIFAR-10 Batch 2:  Validation Loss: 0.1317511349916458, Validation Accuracy: 0.9594595432281494\n",
      "Epoch 35, CIFAR-10 Batch 3:  Validation Loss: 0.20425161719322205, Validation Accuracy: 0.9459459185600281\n",
      "Epoch 35, CIFAR-10 Batch 4:  Validation Loss: 0.1726066768169403, Validation Accuracy: 0.9594594836235046\n",
      "Epoch 35, CIFAR-10 Batch 5:  Validation Loss: 0.17291931807994843, Validation Accuracy: 0.9662162065505981\n",
      "Epoch 36, CIFAR-10 Batch 1:  Validation Loss: 0.14210723340511322, Validation Accuracy: 0.9560810923576355\n",
      "Epoch 36, CIFAR-10 Batch 2:  Validation Loss: 0.11182930320501328, Validation Accuracy: 0.9763513803482056\n",
      "Epoch 36, CIFAR-10 Batch 3:  Validation Loss: 0.15356971323490143, Validation Accuracy: 0.9594594240188599\n",
      "Epoch 36, CIFAR-10 Batch 4:  Validation Loss: 0.18971124291419983, Validation Accuracy: 0.949324369430542\n",
      "Epoch 36, CIFAR-10 Batch 5:  Validation Loss: 0.14735320210456848, Validation Accuracy: 0.9729729890823364\n",
      "Epoch 37, CIFAR-10 Batch 1:  Validation Loss: 0.16450214385986328, Validation Accuracy: 0.9560810923576355\n",
      "Epoch 37, CIFAR-10 Batch 2:  Validation Loss: 0.1177184134721756, Validation Accuracy: 0.9763513803482056\n",
      "Epoch 37, CIFAR-10 Batch 3:  Validation Loss: 0.13884761929512024, Validation Accuracy: 0.9695945978164673\n",
      "Epoch 37, CIFAR-10 Batch 4:  Validation Loss: 0.14795498549938202, Validation Accuracy: 0.962837815284729\n",
      "Epoch 37, CIFAR-10 Batch 5:  Validation Loss: 0.12705273926258087, Validation Accuracy: 0.9864864349365234\n",
      "Epoch 38, CIFAR-10 Batch 1:  Validation Loss: 0.14801841974258423, Validation Accuracy: 0.9662162065505981\n",
      "Epoch 38, CIFAR-10 Batch 2:  Validation Loss: 0.11469638347625732, Validation Accuracy: 0.9831081628799438\n",
      "Epoch 38, CIFAR-10 Batch 3:  Validation Loss: 0.14388296008110046, Validation Accuracy: 0.9729729890823364\n",
      "Epoch 38, CIFAR-10 Batch 4:  Validation Loss: 0.11778557300567627, Validation Accuracy: 0.9729729294776917\n",
      "Epoch 38, CIFAR-10 Batch 5:  Validation Loss: 0.11742904782295227, Validation Accuracy: 0.9831081628799438\n",
      "Epoch 39, CIFAR-10 Batch 1:  Validation Loss: 0.12846189737319946, Validation Accuracy: 0.9763513803482056\n",
      "Epoch 39, CIFAR-10 Batch 2:  Validation Loss: 0.08814658224582672, Validation Accuracy: 0.9898649454116821\n",
      "Epoch 39, CIFAR-10 Batch 3:  Validation Loss: 0.11788810789585114, Validation Accuracy: 0.9831081628799438\n",
      "Epoch 39, CIFAR-10 Batch 4:  Validation Loss: 0.07730299234390259, Validation Accuracy: 0.9898649454116821\n",
      "Epoch 39, CIFAR-10 Batch 5:  Validation Loss: 0.11614704132080078, Validation Accuracy: 0.9729729890823364\n",
      "Epoch 40, CIFAR-10 Batch 1:  Validation Loss: 0.10853207111358643, Validation Accuracy: 0.9695945978164673\n",
      "Epoch 40, CIFAR-10 Batch 2:  Validation Loss: 0.08711112290620804, Validation Accuracy: 0.9831081628799438\n",
      "Epoch 40, CIFAR-10 Batch 3:  Validation Loss: 0.1456005573272705, Validation Accuracy: 0.9662162065505981\n",
      "Epoch 40, CIFAR-10 Batch 4:  Validation Loss: 0.06959176063537598, Validation Accuracy: 0.9831081628799438\n",
      "Epoch 40, CIFAR-10 Batch 5:  Validation Loss: 0.10415754467248917, Validation Accuracy: 0.986486554145813\n",
      "Epoch 41, CIFAR-10 Batch 1:  Validation Loss: 0.09620815515518188, Validation Accuracy: 0.9729729890823364\n",
      "Epoch 41, CIFAR-10 Batch 2:  Validation Loss: 0.07233146578073502, Validation Accuracy: 0.9898649454116821\n",
      "Epoch 41, CIFAR-10 Batch 3:  Validation Loss: 0.11454179883003235, Validation Accuracy: 0.9831081628799438\n",
      "Epoch 41, CIFAR-10 Batch 4:  Validation Loss: 0.07803583145141602, Validation Accuracy: 0.986486554145813\n",
      "Epoch 41, CIFAR-10 Batch 5:  Validation Loss: 0.09169399738311768, Validation Accuracy: 0.9898648262023926\n",
      "Epoch 42, CIFAR-10 Batch 1:  Validation Loss: 0.10898368060588837, Validation Accuracy: 0.9695945978164673\n",
      "Epoch 42, CIFAR-10 Batch 2:  Validation Loss: 0.0762082189321518, Validation Accuracy: 0.9898649454116821\n",
      "Epoch 42, CIFAR-10 Batch 3:  Validation Loss: 0.09075756371021271, Validation Accuracy: 0.9831081628799438\n",
      "Epoch 42, CIFAR-10 Batch 4:  Validation Loss: 0.05546151474118233, Validation Accuracy: 0.9932432174682617\n",
      "Epoch 42, CIFAR-10 Batch 5:  Validation Loss: 0.09216783195734024, Validation Accuracy: 0.9864864349365234\n",
      "Epoch 43, CIFAR-10 Batch 1:  Validation Loss: 0.07483983784914017, Validation Accuracy: 0.986486554145813\n",
      "Epoch 43, CIFAR-10 Batch 2:  Validation Loss: 0.0593855157494545, Validation Accuracy: 0.9966216087341309\n",
      "Epoch 43, CIFAR-10 Batch 3:  Validation Loss: 0.07335490733385086, Validation Accuracy: 0.986486554145813\n",
      "Epoch 43, CIFAR-10 Batch 4:  Validation Loss: 0.06291047483682632, Validation Accuracy: 0.9831081628799438\n",
      "Epoch 43, CIFAR-10 Batch 5:  Validation Loss: 0.07585928589105606, Validation Accuracy: 0.9932432174682617\n",
      "Epoch 44, CIFAR-10 Batch 1:  Validation Loss: 0.07197931408882141, Validation Accuracy: 0.9898649454116821\n",
      "Epoch 44, CIFAR-10 Batch 2:  Validation Loss: 0.0568915531039238, Validation Accuracy: 1.0\n",
      "Epoch 44, CIFAR-10 Batch 3:  Validation Loss: 0.07145096361637115, Validation Accuracy: 0.986486554145813\n",
      "Epoch 44, CIFAR-10 Batch 4:  Validation Loss: 0.07754794508218765, Validation Accuracy: 0.9831081628799438\n",
      "Epoch 44, CIFAR-10 Batch 5:  Validation Loss: 0.09595984220504761, Validation Accuracy: 0.9932433366775513\n",
      "Epoch 45, CIFAR-10 Batch 1:  Validation Loss: 0.07725279778242111, Validation Accuracy: 0.9797297716140747\n",
      "Epoch 45, CIFAR-10 Batch 2:  Validation Loss: 0.05923505872488022, Validation Accuracy: 0.9932432174682617\n",
      "Epoch 45, CIFAR-10 Batch 3:  Validation Loss: 0.05916682630777359, Validation Accuracy: 0.986486554145813\n",
      "Epoch 45, CIFAR-10 Batch 4:  Validation Loss: 0.052636757493019104, Validation Accuracy: 0.9932433366775513\n",
      "Epoch 45, CIFAR-10 Batch 5:  Validation Loss: 0.07367118448019028, Validation Accuracy: 0.9966216087341309\n",
      "Epoch 46, CIFAR-10 Batch 1:  Validation Loss: 0.04793929308652878, Validation Accuracy: 0.9932433366775513\n",
      "Epoch 46, CIFAR-10 Batch 2:  Validation Loss: 0.07347701489925385, Validation Accuracy: 0.9966216087341309\n",
      "Epoch 46, CIFAR-10 Batch 3:  Validation Loss: 0.06035032123327255, Validation Accuracy: 0.9932432174682617\n",
      "Epoch 46, CIFAR-10 Batch 4:  Validation Loss: 0.03596734628081322, Validation Accuracy: 1.0\n",
      "Epoch 46, CIFAR-10 Batch 5:  Validation Loss: 0.06530055403709412, Validation Accuracy: 0.986486554145813\n",
      "Epoch 47, CIFAR-10 Batch 1:  Validation Loss: 0.04597494751214981, Validation Accuracy: 0.9932432174682617\n",
      "Epoch 47, CIFAR-10 Batch 2:  Validation Loss: 0.06498996913433075, Validation Accuracy: 1.0\n",
      "Epoch 47, CIFAR-10 Batch 3:  Validation Loss: 0.06919756531715393, Validation Accuracy: 0.9797297716140747\n",
      "Epoch 47, CIFAR-10 Batch 4:  Validation Loss: 0.045161839574575424, Validation Accuracy: 0.9966216087341309\n",
      "Epoch 47, CIFAR-10 Batch 5:  Validation Loss: 0.05467960983514786, Validation Accuracy: 0.9932433366775513\n",
      "Epoch 48, CIFAR-10 Batch 1:  Validation Loss: 0.040028464049100876, Validation Accuracy: 1.0\n",
      "Epoch 48, CIFAR-10 Batch 2:  Validation Loss: 0.054203957319259644, Validation Accuracy: 0.9932433366775513\n",
      "Epoch 48, CIFAR-10 Batch 3:  Validation Loss: 0.09953571856021881, Validation Accuracy: 0.9662162065505981\n",
      "Epoch 48, CIFAR-10 Batch 4:  Validation Loss: 0.05854225531220436, Validation Accuracy: 0.9966216087341309\n",
      "Epoch 48, CIFAR-10 Batch 5:  Validation Loss: 0.06168476119637489, Validation Accuracy: 0.9898648262023926\n",
      "Epoch 49, CIFAR-10 Batch 1:  Validation Loss: 0.03681214526295662, Validation Accuracy: 0.9966216087341309\n",
      "Epoch 49, CIFAR-10 Batch 2:  Validation Loss: 0.05388049781322479, Validation Accuracy: 0.9932432174682617\n",
      "Epoch 49, CIFAR-10 Batch 3:  Validation Loss: 0.05915115773677826, Validation Accuracy: 0.9898649454116821\n",
      "Epoch 49, CIFAR-10 Batch 4:  Validation Loss: 0.04376514256000519, Validation Accuracy: 0.9966216087341309\n",
      "Epoch 49, CIFAR-10 Batch 5:  Validation Loss: 0.07590088248252869, Validation Accuracy: 0.9898648262023926\n",
      "Epoch 50, CIFAR-10 Batch 1:  Validation Loss: 0.045723672956228256, Validation Accuracy: 0.9966217279434204\n",
      "Epoch 50, CIFAR-10 Batch 2:  Validation Loss: 0.03850578889250755, Validation Accuracy: 0.9932433366775513\n",
      "Epoch 50, CIFAR-10 Batch 3:  Validation Loss: 0.05372007563710213, Validation Accuracy: 0.9966216087341309\n",
      "Epoch 50, CIFAR-10 Batch 4:  Validation Loss: 0.049064453691244125, Validation Accuracy: 1.0\n",
      "Epoch 50, CIFAR-10 Batch 5:  Validation Loss: 0.07075019925832748, Validation Accuracy: 0.986486554145813\n"
     ]
    }
   ],
   "source": [
    "\"\"\"\n",
    "DON'T MODIFY ANYTHING IN THIS CELL\n",
    "\"\"\"\n",
    "save_model_path = './image_classification'\n",
    "\n",
    "print('Training...')\n",
    "with tf.Session() as sess:\n",
    "    # Initializing the variables\n",
    "    sess.run(tf.global_variables_initializer())\n",
    "    \n",
    "    # Training cycle\n",
    "    for epoch in range(epochs):\n",
    "        # Loop over all batches\n",
    "        n_batches = 5\n",
    "        for batch_i in range(1, n_batches + 1):\n",
    "            for batch_features, batch_labels in helper.load_preprocess_training_batch(batch_i, batch_size):\n",
    "                train_neural_network(sess, optimizer, keep_probability, batch_features, batch_labels)\n",
    "            print('Epoch {:>2}, CIFAR-10 Batch {}:  '.format(epoch + 1, batch_i), end='')\n",
    "            print_stats(sess, batch_features, batch_labels, cost, accuracy)\n",
    "            \n",
    "    # Save Model\n",
    "    saver = tf.train.Saver()\n",
    "    save_path = saver.save(sess, save_model_path)"
   ]
  },
  {
   "cell_type": "markdown",
   "metadata": {
    "deletable": true,
    "editable": true
   },
   "source": [
    "# Checkpoint\n",
    "The model has been saved to disk.\n",
    "## Test Model\n",
    "Test your model against the test dataset.  This will be your final accuracy. You should have an accuracy greater than 50%. If you don't, keep tweaking the model architecture and parameters."
   ]
  },
  {
   "cell_type": "code",
   "execution_count": 113,
   "metadata": {
    "collapsed": false,
    "deletable": true,
    "editable": true
   },
   "outputs": [
    {
     "name": "stdout",
     "output_type": "stream",
     "text": [
      "Testing Accuracy: 0.5997070342302322\n",
      "\n"
     ]
    },
    {
     "data": {
      "image/png": "[encoded data removed]",
      "text/plain": [
       "<matplotlib.figure.Figure at 0x7fe27f507c88>"
      ]
     },
     "metadata": {
      "image/png": {
       "height": 319,
       "width": 355
      }
     },
     "output_type": "display_data"
    }
   ],
   "source": [
    "\"\"\"\n",
    "DON'T MODIFY ANYTHING IN THIS CELL\n",
    "\"\"\"\n",
    "%matplotlib inline\n",
    "%config InlineBackend.figure_format = 'retina'\n",
    "\n",
    "import tensorflow as tf\n",
    "import pickle\n",
    "import helper\n",
    "import random\n",
    "\n",
    "# Set batch size if not already set\n",
    "try:\n",
    "    if batch_size:\n",
    "        pass\n",
    "except NameError:\n",
    "    batch_size = 64\n",
    "\n",
    "save_model_path = './image_classification'\n",
    "n_samples = 4\n",
    "top_n_predictions = 3\n",
    "\n",
    "def test_model():\n",
    "    \"\"\"\n",
    "    Test the saved model against the test dataset\n",
    "    \"\"\"\n",
    "\n",
    "    test_features, test_labels = pickle.load(open('preprocess_test.p', mode='rb'))\n",
    "    loaded_graph = tf.Graph()\n",
    "\n",
    "    with tf.Session(graph=loaded_graph) as sess:\n",
    "        # Load model\n",
    "        loader = tf.train.import_meta_graph(save_model_path + '.meta')\n",
    "        loader.restore(sess, save_model_path)\n",
    "\n",
    "        # Get Tensors from loaded model\n",
    "        loaded_x = loaded_graph.get_tensor_by_name('x:0')\n",
    "        loaded_y = loaded_graph.get_tensor_by_name('y:0')\n",
    "        loaded_keep_prob = loaded_graph.get_tensor_by_name('keep_prob:0')\n",
    "        loaded_logits = loaded_graph.get_tensor_by_name('logits:0')\n",
    "        loaded_acc = loaded_graph.get_tensor_by_name('accuracy:0')\n",
    "        \n",
    "        # Get accuracy in batches for memory limitations\n",
    "        test_batch_acc_total = 0\n",
    "        test_batch_count = 0\n",
    "        \n",
    "        for test_feature_batch, test_label_batch in helper.batch_features_labels(test_features, test_labels, batch_size):\n",
    "            test_batch_acc_total += sess.run(\n",
    "                loaded_acc,\n",
    "                feed_dict={loaded_x: test_feature_batch, loaded_y: test_label_batch, loaded_keep_prob: 1.0})\n",
    "            test_batch_count += 1\n",
    "\n",
    "        print('Testing Accuracy: {}\\n'.format(test_batch_acc_total/test_batch_count))\n",
    "\n",
    "        # Print Random Samples\n",
    "        random_test_features, random_test_labels = tuple(zip(*random.sample(list(zip(test_features, test_labels)), n_samples)))\n",
    "        random_test_predictions = sess.run(\n",
    "            tf.nn.top_k(tf.nn.softmax(loaded_logits), top_n_predictions),\n",
    "            feed_dict={loaded_x: random_test_features, loaded_y: random_test_labels, loaded_keep_prob: 1.0})\n",
    "        helper.display_image_predictions(random_test_features, random_test_labels, random_test_predictions)\n",
    "\n",
    "\n",
    "test_model()"
   ]
  },
  {
   "cell_type": "markdown",
   "metadata": {
    "deletable": true,
    "editable": true
   },
   "source": [
    "## Why 50-80% Accuracy?\n",
    "You might be wondering why you can't get an accuracy any higher. First things first, 50% isn't bad for a simple CNN.  Pure guessing would get you 10% accuracy. However, you might notice people are getting scores [well above 80%](http://rodrigob.github.io/are_we_there_yet/build/classification_datasets_results.html#43494641522d3130).  That's because we haven't taught you all there is to know about neural networks. We still need to cover a few more techniques.\n",
    "## Submitting This Project\n",
    "When submitting this project, make sure to run all the cells before saving the notebook.  Save the notebook file as \"dlnd_image_classification.ipynb\" and save it as a HTML file under \"File\" -> \"Download as\".  Include the \"helper.py\" and \"problem_unittests.py\" files in your submission."
   ]
  }
 ],
 "metadata": {
  "kernelspec": {
   "display_name": "Python 3",
   "language": "python",
   "name": "python3"
  },
  "language_info": {
   "codemirror_mode": {
    "name": "ipython",
    "version": 3
   },
   "file_extension": ".py",
   "mimetype": "text/x-python",
   "name": "python",
   "nbconvert_exporter": "python",
   "pygments_lexer": "ipython3",
   "version": "3.5.3"
  }
 },
 "nbformat": 4,
 "nbformat_minor": 0
}
